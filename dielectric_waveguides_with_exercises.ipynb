{
 "cells": [
  {
   "cell_type": "markdown",
   "metadata": {
    "id": "qTCy4aWdLLK0",
    "tags": []
   },
   "source": [
    "# Dielectric waveguides\n"
   ]
  },
  {
   "cell_type": "code",
   "execution_count": 1,
   "metadata": {
    "colab": {
     "base_uri": "https://localhost:8080/"
    },
    "id": "tTpYS8-T7Rs3",
    "outputId": "8fbf3ef1-874e-4b75-f7b0-bf2978a0eb6a"
   },
   "outputs": [],
   "source": [
    "#!pip install mathjax\n",
    "import sympy as sp\n",
    "\n",
    "from IPython.display import display, HTML\n",
    "\n",
    "import numpy as np\n",
    "import matplotlib.pyplot as plt\n",
    "import scipy.constants as sciconst\n",
    "\n",
    "from ipywidgets import interactive\n",
    "from numpy.lib import scimath as sm\n",
    "from scipy.signal import find_peaks\n",
    "\n",
    "import dielectric_waveguide_scripts.quiz_script as quiz_script"
   ]
  },
  {
   "cell_type": "markdown",
   "metadata": {
    "id": "3PEzFmTjLLK2"
   },
   "source": [
    "Let's try to solve for the optical modes within a dielectric waveguide, defined by a spatially dependent permittivity $\\varepsilon(\\mathbf{r})$. \n",
    "\n",
    "### Problem Statement: \n",
    "Solve for the electromagnetic modes in a length $L_z$ of a waveguide that has width $w$, height $h$, and length $L_z$. \n",
    "\n",
    "***\n",
    "### Approach: \n",
    "We need to solve Maxwell's equations in this volume for \n",
    "the electric field $\\mathbf{E}$. We consider the problem in a volume of dimenions $L_x\\gg w$, $L_y\\gg h$, and length $L_z$. We assume vanishing fields on the transverse boundaries and periodic boundary conditions in $z$. \n",
    "\n",
    "In an arbitrary medium, the equations are modified to take into account the material properties of the medium, through the use of the electric permittivity $\\varepsilon(\\mathbf{r})$ and the magnetic permeability $\\mu(\\mathbf{r})$:\n",
    "\n",
    "\n",
    "\n",
    "$$ \\begin{aligned}\\label{eq:MW}\n",
    "\\nabla\\cdot\\mathbf{D} &= \\rho \\\\\n",
    "\\nabla\\cdot\\mathbf{B} &= 0 \\\\\n",
    "\\nabla\\times\\mathbf{E} &= -\\frac{\\partial\\mathbf{B}}{\\partial t} \\\\ \\nabla\\times\\mathbf{H} &= \\mathbf{J}+\\frac{\\partial\\mathbf{D}}{\\partial t}\n",
    "\\end{aligned} $$\n",
    "\n",
    "\\eqref{eq:MW}\n",
    "\n",
    "\n",
    "where $\\mathbf{D}=\\varepsilon\\mathbf{E}$ and $\\mathbf{H}=\\frac{\\mathbf{B}}{\\mu}$, $\\mathbf{B}$ is the magnetic field, $\\rho$ is the electric charge density, $\\mathbf{J}$ is the electric current density, $\\varepsilon_0$ is the permittivity of free space, and $\\mu_0$ is the permeability of free space.\n",
    "\n",
    "***\n",
    "### Assumptions: $$\\label{eq:assumptions}$$\n",
    "Start with the following simplifying assumptions on the materials:\n",
    "\n",
    "* Isotropic: The material properties (such as permittivity and permeability) are independent of the direction of the electric field or magnetic field, i.e.:\n",
    "$$ \\begin{aligned} \\varepsilon(\\mathbf{r},\\mathbf{E}) &= \\varepsilon(\\mathbf{r},\\mathbf{k}\\cdot\\mathbf{E}) \\\\ \\mu(\\mathbf{r},\\mathbf{B}) &= \\mu(\\mathbf{r},\\mathbf{k}\\cdot\\mathbf{B}), \\end{aligned} $$ where $\\mathbf{k}$ is any unit vector.\n",
    "\n",
    "* Linear: The material properties (such as permittivity and permeability) are proportional to the strength of the electric field or magnetic field, so that for two solutions indexed by 1 and 2,\n",
    "$$ \\begin{aligned} \\mathbf{D}(\\mathbf{E}_1+\\mathbf{E}_2) &= \\mathbf{D}(\\mathbf{E}_1)+\\mathbf{D}(\\mathbf{E}_2) \\\\ \\mathbf{B}(\\mathbf{H}_1+\\mathbf{H}_2) &= \\mathbf{B}(\\mathbf{H}_1)+\\mathbf{B}(\\mathbf{H}_2). \\end{aligned} $$\n",
    "\n",
    "* Nondispersive: The material properties (such as permittivity and permeability) are independent of frequency, i.e.:\n",
    "$$ \\begin{aligned} \\varepsilon(\\mathbf{r},\\omega) &= \\varepsilon(\\mathbf{r}) \\\\ \\mu(\\mathbf{r},\\omega) &= \\mu(\\mathbf{r}) \\end{aligned} $$\n",
    "\n",
    "* Nonmagnetic: The material has a magnetic permeability of $\\mu=\\mu_0$, which is the permeability of free space. This means that the material is not magnetically active and does not produce its own magnetic field.\n",
    "\n",
    "* No free moving charges: $\\mathbf{J}=0$. \n",
    "\n",
    "***\n",
    "\n",
    "\n",
    "\n",
    "$$ \\begin{aligned} \\nabla\\times \\mathbf{E(r)}&=-j\\omega\\mu_0 \\mathbf{H(r)} \\ \\nabla\\times \\mathbf{H(r)}&=j\\omega\\varepsilon(r) \\mathbf{E(r)} \\ \\nabla\\cdot(\\varepsilon(\\mathbf{r})\\mathbf{E(r)})&=0 \\ \\nabla\\cdot \\mathbf{H(r)}&=0, \\end{aligned} $$\n",
    "\n",
    "\n",
    "If it's time-invarient we can moreover approach the problem by decomposing any optical field into a superposition of Fourier components -- i.e., of monochromatic fields. Let's consider one such field at frequency $\\omega$. \n",
    "harmonic time dependence $e^{j\\omega t}$\n",
    "absence of sources and currents\n",
    "We have also defined:\n",
    "\n",
    "$$ \\begin{aligned} \\mathbf{D}&=\\varepsilon\\mathbf{E}=\\varepsilon_0n^2\\mathbf{E} \\ \\mathbf{B}&=\\mu_0\\mathbf{H}. \\end{aligned} $$\n",
    "\n",
    "The boundary conditions for an interface between two dielectrics with $\\varepsilon_1$ and $\\varepsilon_2$ (where $\\mathbf{n_v}$ represents the normal vector) are given by:\n",
    "\n",
    "$$ \\begin{aligned} \\mathbf{n_v}\\times(\\mathbf{E}_1-\\mathbf{E}_2)&=0 \\ \\mathbf{n_v}\\times(\\mathbf{H}_1-\\mathbf{H}_2)&=0 \\ \\mathbf{n_v}\\cdot(\\varepsilon_1\\mathbf{E}_1-\\varepsilon_2\\mathbf{E}_2)&=0 \\ \\mathbf{n_v}\\cdot(\\mathbf{H}_1-\\mathbf{H}_2)&=0. \\end{aligned} $$\n",
    "\n",
    "To continue, we can consider the special case of a dielectric waveguide, where the electric field is confined to a narrow region in space, known as the waveguide core. The surrounding region, known as the cladding, has a lower refractive index than the core. The boundary conditions for the waveguide then become:\n",
    "\n",
    "$$ \\begin{aligned} \\mathbf{n_v}\\times(\\mathbf{E}_\\text{core}-\\mathbf{E}_\\text{cladding})&=0 \\\\ \\mathbf{n_v}\\times(\\mathbf{H}_\\text{core}-\\mathbf{H}_\\text{cladding})&=0 \\\\ \\mathbf{n_v}\\cdot(\\varepsilon_\\text{core}\\mathbf{E}_\\text{core}-\\varepsilon_\\text{cladding}\\mathbf{E}_\\text{cladding})&=0 \\\\ \\mathbf{n_v}\\cdot(\\mathbf{H}_\\text{core}-\\mathbf{H}_\\text{cladding})&=0. \\end{aligned} $$\n",
    "\n",
    "These boundary conditions allow us to find the allowed modes of the waveguide, which are the solutions to the wave equation that satisfy the boundary conditions. These modes determine the properties of the waveguide, such as its guiding properties and the attenuation of the guided waves."
   ]
  },
  {
   "cell_type": "markdown",
   "metadata": {
    "id": "uqBynXD-LLK2"
   },
   "source": [
    "### 1.1. Longitudinally invariant waveguides\n",
    "Let's apply now the periodic boundary condition. Then, an eigenmode propagating in the positive $z$ direction can be represented by $\\mathbf{E(r)}=\\mathbf{E_0}(x,y)e^{-j\\beta z}$ and $\\mathbf{H(r)}=\\mathbf{H_0}(x,y)e^{-j\\beta z}$, where $\\beta$ is the propagation constant of the eigenmode. The effective mode index is defined as $\\text{n}_\\text{eff}=\\beta/k_0$, which is related to the effective dielectric constant $\\varepsilon_{\\text{eff}}=\\text{n}_\\text{eff}^2$. The values of $\\text{n}_\\text{eff}$ are bounded by the minimum and maximum refractive indices of the waveguide material. All electromagnetic field distributions within the waveguide geometry can be described by a combination of these eigenmodes."
   ]
  },
  {
   "cell_type": "markdown",
   "metadata": {
    "id": "WbNyOYeZLLK3"
   },
   "source": [
    "### 1.2. The 3-layer slab waveguide\n",
    "Eigenmodes in common rectangular waveguides can be approximated by analytically solving for modes in structures that are invariant along both the propagation direction and one of the perpendicular directions. These structures are called slab waveguides. The electric and magnetic fields of the eigenmodes in a slab waveguide can be represented by $\\mathbf{E(r)}=\\mathbf{E_0}(x)e^{-j\\beta z}$ and $\\mathbf{H(r)}=\\mathbf{H_0}(x)e^{-j\\beta z}$, respectively. Substituting these equations into Maxwell's curl equations leads to a system of six equations. This system can be split into two sets of three equations, defining transverse electric (TE) modes, in which there is no electric field in the propagation direction, and transverse magnetic (TM) modes, in which there is no magnetic field in the propagation direction. These modes can be described by the Helmholtz equation. Assuming piecewise constant refractive index allows the decoupling of the three components of the field vectors, leading to an eigenvalue equation. The general solution to this equation is a plane wave with wavevector $k_x=\\sqrt{k_0^2\\text{n}_\\text{i}^2-\\beta^2}$, where $\\text{n}_\\text{i}$ is the refractive index of the waveguide material."
   ]
  },
  {
   "cell_type": "markdown",
   "metadata": {
    "id": "3A9W2-fU7DaJ"
   },
   "source": [
    "<details>\n",
    "    <summary><b>Click to expand for detail</b></summary>\n",
    "The electric and magnetic fields of the eigenmodes in a slab waveguide can be represented by $\\mathbf{E(r)}=\\mathbf{E_0}(x)e^{-j\\beta z}$ and $\\mathbf{H(r)}=\\mathbf{H_0}(x)e^{-j\\beta z}$, respectively. Substituting these equations into Maxwell's curl equations leads to a system of six equations that can be split into two sets, defining transverse electric (TE) modes and transverse magnetic (TM) modes. These modes can be described by the Helmholtz equation:\n",
    "\n",
    "$$\n",
    "\\begin{align*}\n",
    "& \\frac{d^2E_0(x)}{dx^2}+k_0^2\\text{n}\\text{i}^2E_0(x)=\\beta^2E_0(x) \\\n",
    "&\\frac{d^2H_0(x)}{dx^2}+k_0^2\\text{n}\\text{i}^2H_0(x)=\\beta^2H_0(x).\n",
    "\\end{align*}\n",
    "$$\n",
    "\n",
    "This is an eigenvalue equation, with general solution\n",
    "\n",
    "$$\n",
    "E_0(x)=A_ie^{jk_x(x-a_i)}+B_ie^{-jk_x(x-a_i)},\n",
    "$$\n",
    "\n",
    "where\n",
    "$$\n",
    "k_x=\\sqrt{k_0^2\\text{n}_\\text{i}^2-\\beta^2},\n",
    "$$\n",
    "\n",
    "and $a_i$ defines the position on the x-axis of the wave, which we set to the top interface (with the exception of the topmost film, in which $a_N=a_{N-1}$). This solution represents a plane wave, with wavevector $k_x$.\n",
    "\n",
    "It is worth noting that although slab waveguides are not commonly used in photonic devices, they are often employed in simulation software, as they provide valuable insight into waveguide modes and can be solved analytically. Additionally, we should mention that while we have assumed piecewise constant refractive index, this assumption can be relaxed to allow for more general waveguides with smoothly varying refractive index. However, solving for the eigenmodes in these cases usually requires numerical methods.\n",
    "</details>"
   ]
  },
  {
   "cell_type": "markdown",
   "metadata": {
    "id": "dxomKOAe7OSe"
   },
   "source": [
    "### Problem 0: "
   ]
  },
  {
   "cell_type": "code",
   "execution_count": 2,
   "metadata": {
    "colab": {
     "base_uri": "https://localhost:8080/",
     "height": 136
    },
    "id": "OTgRjjcpLAek",
    "outputId": "5ed50ea6-a74f-407c-8b30-c84c92b3a53a"
   },
   "outputs": [
    {
     "data": {
      "text/html": [
       "<b>Question 1:</b>"
      ],
      "text/plain": [
       "<IPython.core.display.HTML object>"
      ]
     },
     "metadata": {},
     "output_type": "display_data"
    },
    {
     "data": {
      "text/html": [
       "Which of the following modes propagates in a dielectric waveguide with a rectangular cross-section?"
      ],
      "text/plain": [
       "<IPython.core.display.HTML object>"
      ]
     },
     "metadata": {},
     "output_type": "display_data"
    },
    {
     "data": {
      "text/html": [
       "<button class=\"btn btn-primary mr-2\" onclick=\"display_result(1, 'A')\">A) TE modes</button>"
      ],
      "text/plain": [
       "<IPython.core.display.HTML object>"
      ]
     },
     "metadata": {},
     "output_type": "display_data"
    },
    {
     "data": {
      "text/html": [
       "<button class=\"btn btn-primary mr-2\" onclick=\"display_result(1, 'B')\">B) TM modes</button>"
      ],
      "text/plain": [
       "<IPython.core.display.HTML object>"
      ]
     },
     "metadata": {},
     "output_type": "display_data"
    },
    {
     "data": {
      "text/html": [
       "<button class=\"btn btn-primary mr-2\" onclick=\"display_result(1, 'C')\">C) Both TE and TM modes</button>"
      ],
      "text/plain": [
       "<IPython.core.display.HTML object>"
      ]
     },
     "metadata": {},
     "output_type": "display_data"
    },
    {
     "data": {
      "text/html": [
       "<button class=\"btn btn-primary mr-2\" onclick=\"display_result(1, 'D')\">D) Neither TE nor TM modes</button>"
      ],
      "text/plain": [
       "<IPython.core.display.HTML object>"
      ]
     },
     "metadata": {},
     "output_type": "display_data"
    },
    {
     "name": "stdin",
     "output_type": "stream",
     "text": [
      "Enter the answer for question 1:  A\n"
     ]
    },
    {
     "data": {
      "text/html": [
       "<b>Question 2:</b>"
      ],
      "text/plain": [
       "<IPython.core.display.HTML object>"
      ]
     },
     "metadata": {},
     "output_type": "display_data"
    },
    {
     "data": {
      "text/html": [
       "What is the relationship between the refractive indices of the core and cladding in a step-index fiber?"
      ],
      "text/plain": [
       "<IPython.core.display.HTML object>"
      ]
     },
     "metadata": {},
     "output_type": "display_data"
    },
    {
     "data": {
      "text/html": [
       "<button class=\"btn btn-primary mr-2\" onclick=\"display_result(2, 'A')\">A) The refractive index of the core is greater than the refractive index of the cladding.</button>"
      ],
      "text/plain": [
       "<IPython.core.display.HTML object>"
      ]
     },
     "metadata": {},
     "output_type": "display_data"
    },
    {
     "data": {
      "text/html": [
       "<button class=\"btn btn-primary mr-2\" onclick=\"display_result(2, 'B')\">B) The refractive index of the core is equal to the refractive index of the cladding.</button>"
      ],
      "text/plain": [
       "<IPython.core.display.HTML object>"
      ]
     },
     "metadata": {},
     "output_type": "display_data"
    },
    {
     "data": {
      "text/html": [
       "<button class=\"btn btn-primary mr-2\" onclick=\"display_result(2, 'C')\">C) The refractive index of the core is less than the refractive index of the cladding.</button>"
      ],
      "text/plain": [
       "<IPython.core.display.HTML object>"
      ]
     },
     "metadata": {},
     "output_type": "display_data"
    },
    {
     "data": {
      "text/html": [
       "<button class=\"btn btn-primary mr-2\" onclick=\"display_result(2, 'D')\">D) There is no relationship between the refractive indices of the core and cladding.</button>"
      ],
      "text/plain": [
       "<IPython.core.display.HTML object>"
      ]
     },
     "metadata": {},
     "output_type": "display_data"
    },
    {
     "name": "stdin",
     "output_type": "stream",
     "text": [
      "Enter the answer for question 2:  A\n"
     ]
    },
    {
     "data": {
      "text/html": [
       "<b>Question 3:</b>"
      ],
      "text/plain": [
       "<IPython.core.display.HTML object>"
      ]
     },
     "metadata": {},
     "output_type": "display_data"
    },
    {
     "data": {
      "text/html": [
       "What is the purpose of the cladding layer in an optical fiber?"
      ],
      "text/plain": [
       "<IPython.core.display.HTML object>"
      ]
     },
     "metadata": {},
     "output_type": "display_data"
    },
    {
     "data": {
      "text/html": [
       "<button class=\"btn btn-primary mr-2\" onclick=\"display_result(3, 'A')\">A) The cladding layer is used to transmit the light signal through the fiber.</button>"
      ],
      "text/plain": [
       "<IPython.core.display.HTML object>"
      ]
     },
     "metadata": {},
     "output_type": "display_data"
    },
    {
     "data": {
      "text/html": [
       "<button class=\"btn btn-primary mr-2\" onclick=\"display_result(3, 'B')\">B) The cladding layer is used to protect the fiber from damage.</button>"
      ],
      "text/plain": [
       "<IPython.core.display.HTML object>"
      ]
     },
     "metadata": {},
     "output_type": "display_data"
    },
    {
     "data": {
      "text/html": [
       "<button class=\"btn btn-primary mr-2\" onclick=\"display_result(3, 'C')\">C) The cladding layer is used to focus the light onto the fiber.</button>"
      ],
      "text/plain": [
       "<IPython.core.display.HTML object>"
      ]
     },
     "metadata": {},
     "output_type": "display_data"
    },
    {
     "data": {
      "text/html": [
       "<button class=\"btn btn-primary mr-2\" onclick=\"display_result(3, 'D')\">D) The cladding layer is used to reflect light back into the core.</button>"
      ],
      "text/plain": [
       "<IPython.core.display.HTML object>"
      ]
     },
     "metadata": {},
     "output_type": "display_data"
    },
    {
     "name": "stdin",
     "output_type": "stream",
     "text": [
      "Enter the answer for question 3:  D\n"
     ]
    },
    {
     "data": {
      "text/html": [
       "<b>Question 4:</b>"
      ],
      "text/plain": [
       "<IPython.core.display.HTML object>"
      ]
     },
     "metadata": {},
     "output_type": "display_data"
    },
    {
     "data": {
      "text/html": [
       "How do TE modes and TM modes differ in their electric field distribution?"
      ],
      "text/plain": [
       "<IPython.core.display.HTML object>"
      ]
     },
     "metadata": {},
     "output_type": "display_data"
    },
    {
     "data": {
      "text/html": [
       "<button class=\"btn btn-primary mr-2\" onclick=\"display_result(4, 'A')\">A) TE modes have an electric field that is perpendicular to the direction of propagation, while TM modes have an electric field that is parallel to the direction of propagation.</button>"
      ],
      "text/plain": [
       "<IPython.core.display.HTML object>"
      ]
     },
     "metadata": {},
     "output_type": "display_data"
    },
    {
     "data": {
      "text/html": [
       "<button class=\"btn btn-primary mr-2\" onclick=\"display_result(4, 'B')\">B) TE modes have an electric field completely transverse to the direction of propagation, with a non-zero transverse magnetic field. TM modes have a magnetic field completely transverse to the direction of propagation, with a non-zero transverse electric field.</button>"
      ],
      "text/plain": [
       "<IPython.core.display.HTML object>"
      ]
     },
     "metadata": {},
     "output_type": "display_data"
    },
    {
     "data": {
      "text/html": [
       "<button class=\"btn btn-primary mr-2\" onclick=\"display_result(4, 'C')\">C) TE modes and TM modes have the same electric field distribution.</button>"
      ],
      "text/plain": [
       "<IPython.core.display.HTML object>"
      ]
     },
     "metadata": {},
     "output_type": "display_data"
    },
    {
     "data": {
      "text/html": [
       "<button class=\"btn btn-primary mr-2\" onclick=\"display_result(4, 'D')\">D) There is no difference in the electric field distribution of TE modes and TM modes.</button>"
      ],
      "text/plain": [
       "<IPython.core.display.HTML object>"
      ]
     },
     "metadata": {},
     "output_type": "display_data"
    },
    {
     "name": "stdin",
     "output_type": "stream",
     "text": [
      "Enter the answer for question 4:  B\n"
     ]
    },
    {
     "name": "stdout",
     "output_type": "stream",
     "text": [
      "-----\n",
      "Your answers:    ['A', 'A', 'D', 'B']\n",
      "Correct answers: ['A', 'A', 'D', 'B']\n",
      "-----\n",
      "Number of correct answers:   4\n",
      "Number of incorrect answers: 0\n"
     ]
    }
   ],
   "source": [
    "q = quiz_script.Quiz()\n",
    "q.run_quiz()\n",
    "q.check_quiz_answers()"
   ]
  },
  {
   "cell_type": "markdown",
   "metadata": {
    "id": "h2NcxoJDLLK4"
   },
   "source": [
    "### Problem 1: TM modes in a slab waveguide \n",
    "\n",
    "Note: This problem is built on an earlier homework exercise by Dr Carlos Errando Herranz.\n",
    "\n",
    "The following code solves for the fields in a slab waveguide for TE and TM modes, given the refractive indexes of the core and claddings, the wavelength,  the slab thickness $h$, width $w$, and a pulse length of $L_z= c/n_{\\text{eff}} * 1/\\Omega $ where $\\Omega$ is the pulse bandwidth. \n",
    "\n",
    "You can double-check your solutions (propagation constants, effective mode indices, and shape of the E and H fields) are correct using the online solver https://www.computational-photonics.eu/oms.html. Note that the field normalization in this online solver might be different than yours."
   ]
  },
  {
   "cell_type": "code",
   "execution_count": 3,
   "metadata": {
    "colab": {
     "base_uri": "https://localhost:8080/",
     "height": 407
    },
    "id": "Jrp9zRwXLLK5",
    "outputId": "0f393713-7b62-4dea-c70e-4a36d7af907f"
   },
   "outputs": [
    {
     "name": "stdout",
     "output_type": "stream",
     "text": [
      "Number of modes = 2\n"
     ]
    },
    {
     "data": {
      "image/png": "[encoded data removed]",
      "text/plain": [
       "<Figure size 1080x360 with 3 Axes>"
      ]
     },
     "metadata": {
      "needs_background": "light"
     },
     "output_type": "display_data"
    },
    {
     "name": "stdout",
     "output_type": "stream",
     "text": [
      "Neffs = [1.003003   1.53353353]\n"
     ]
    },
    {
     "data": {
      "text/plain": [
       "array([1.003003  , 1.53353353])"
      ]
     },
     "execution_count": 3,
     "metadata": {},
     "output_type": "execute_result"
    }
   ],
   "source": [
    "plottest = False # This lets you plot the graph showing the numerical solutions to the transcendental equations\n",
    "\n",
    "def slab(nc, ncladtop, ncladbot, wavel, d, pol='TM', plot=True, printit=True): \n",
    "    # Wavelength and thickness inputs are in um\n",
    "    wavel=wavel*1e-6\n",
    "    d=d*1e-6\n",
    "    k0=2*np.pi/wavel\n",
    "    omega=k0*sciconst.c\n",
    "    beta=np.linspace(min(nc,ncladtop,ncladbot),max(nc,ncladtop,ncladbot),num=1000)*2*np.pi/wavel\n",
    "    \n",
    "    delta=sm.sqrt(beta**2-ncladbot**2*k0**2)\n",
    "    kappa=sm.sqrt(nc**2*k0**2-beta**2)\n",
    "    gamma=sm.sqrt(beta**2-ncladtop**2*k0**2)\n",
    "    \n",
    "    # Numerically solve for the transcendental equation\n",
    "    left=np.tan(kappa*d)\n",
    "    if pol=='TE':\n",
    "        right=kappa*(gamma+delta)/(kappa**2-gamma*delta)\n",
    "    elif pol=='TM':\n",
    "        right=kappa*(gamma*nc**2/ncladtop**2+delta*nc**2/ncladbot**2)/(kappa**2-gamma*nc**2/ncladtop**2*delta*nc**2/ncladbot**2)\n",
    "    fun=-abs(left-right)\n",
    "    peaks=find_peaks(fun)\n",
    "    \n",
    "    # This lets you plot the transcendental equation\n",
    "    if plottest==True:\n",
    "        plt.figure(1)\n",
    "        plt.plot(beta*wavel/np.pi/2,left, beta*wavel/np.pi/2, right)\n",
    "        plt.ylim(-10, 10)\n",
    "        plt.xlabel('Effective index')\n",
    "        plt.figure(2)\n",
    "        plt.plot(beta*wavel/np.pi/2,fun)\n",
    "        plt.xlabel('Effective index')\n",
    "        plt.ylim(-1, 0)\n",
    "    \n",
    "    # Calculate betaeff and neff\n",
    "    betas=beta[peaks[0][:]]\n",
    "    neffs=beta[peaks[0][:]]*wavel/2/np.pi\n",
    "    \n",
    "    # Number of modes\n",
    "    M=len(neffs)\n",
    "    if printit:\n",
    "        print('Number of modes = '+ str(M))\n",
    "    \n",
    "    # Calculate and plot electric field\n",
    "    if plot==True:\n",
    "        x1=np.linspace(0,2*d,num=100)\n",
    "        x2=np.linspace(-d,0,num=100)\n",
    "        x3=np.linspace(-3*d,-d,num=100)\n",
    "        B=1\n",
    "        fig, axs = plt.subplots(1,3,figsize=(15,15/3))\n",
    "        for b in betas:\n",
    "            deltab=np.sqrt(b**2-ncladbot**2*k0**2)\n",
    "            kappab=np.sqrt(nc**2*k0**2-b**2)\n",
    "            gammab=np.sqrt(b**2-ncladtop**2*k0**2)\n",
    "            if pol=='TE':\n",
    "                A=-B*kappab/deltab\n",
    "            elif pol=='TM':\n",
    "                A=-B*kappab*ncladbot**2/nc**2/deltab\n",
    "            ey1=A*np.exp(-deltab*x1)\n",
    "            ey2=A*np.cos(kappab*x2)+B*np.sin(kappab*x2)\n",
    "            ey3=(A*np.cos(kappab*d)-B*np.sin(kappab*d))*np.exp(gammab*(x3+d))\n",
    "            hx1=-b*ey1/omega/sciconst.mu_0\n",
    "            hx2=-b*ey2/omega/sciconst.mu_0\n",
    "            hx3=-b*ey3/omega/sciconst.mu_0\n",
    "            hz1=-(-1/1j/omega/sciconst.mu_0)*deltab*A*np.exp(-deltab*x1)\n",
    "            hz2=(-1/1j/omega/sciconst.mu_0)*(-A*kappab*np.sin(kappab*x2)+B*kappab*np.cos(kappab*x2))\n",
    "            hz3=(-1/1j/omega/sciconst.mu_0)*gammab*(A*np.cos(kappab*d)-B*np.sin(kappab*d))*np.exp(gammab*(x3+d))\n",
    "            if pol=='TE':\n",
    "                axs[0].plot(x1*1e6, ey1, x2*1e6, ey2, x3*1e6, ey3)\n",
    "                axs[0].set_title('$E_y$')\n",
    "                axs[1].plot(x1*1e6, hx1, x2*1e6, hx2, x3*1e6, hx3)\n",
    "                axs[1].set_title(\"Hx\")\n",
    "                axs[2].plot(x1*1e6, np.real(1j*hz1), x2*1e6, np.real(1j*hz2), x3*1e6, np.real(1j*hz3)) #shifted by pi\n",
    "                axs[2].set_title(\"Hz\")\n",
    "            elif pol=='TM':\n",
    "                hy1=ey1\n",
    "                hy2=ey2\n",
    "                hy3=ey3\n",
    "                ex1=-hy1*b/sciconst.epsilon_0/ncladbot**2/omega\n",
    "                ex2=-hy2*b/sciconst.epsilon_0/nc**2/omega\n",
    "                ex3=-hy3*b/sciconst.epsilon_0/ncladtop**2/omega\n",
    "                ez1=-hz1*sciconst.mu_0/sciconst.epsilon_0/ncladbot**2\n",
    "                ez2=-hz2*sciconst.mu_0/sciconst.epsilon_0/nc**2\n",
    "                ez3=-hz3*sciconst.mu_0/sciconst.epsilon_0/ncladtop**2\n",
    "                axs[0].plot(x1*1e6, ex1, x2*1e6, ex2, x3*1e6, ex3)\n",
    "                axs[0].set_title('$E_x$')\n",
    "                axs[1].plot(x1*1e6, hy1, x2*1e6, hy2, x3*1e6, hy3)\n",
    "                axs[1].set_title('$E_y$')\n",
    "                axs[2].plot(x1*1e6, np.real(1j*ez1), x2*1e6, np.real(1j*ez2), x3*1e6, np.real(1j*ez3)) #shifted by pi\n",
    "                axs[2].set_title('$E_z$')\n",
    "\n",
    "        axs[0].set(ylabel='Electric field in units of $\\sqrt{\\hbar \\pi  \\Omega n_{\\text{eff}}/(w h \\lambda) }$')\n",
    "        for ax in axs.flat:\n",
    "            ax.set(xlabel='Distance in x ($\\mu$m)')\n",
    "\n",
    "                # Add box from x=-d to x=d\n",
    "        plt.axvspan(-d*1e6, 0, alpha=0.5, color='lightgrey')\n",
    "        plt.show()\n",
    "    if printit:\n",
    "        print('Neffs = '+ str(neffs))\n",
    "    return neffs\n",
    "\n",
    "slab(2,1,1,1.55,0.5, pol='TM', plot=True)"
   ]
  },
  {
   "cell_type": "code",
   "execution_count": 4,
   "metadata": {
    "colab": {
     "base_uri": "https://localhost:8080/",
     "height": 646,
     "referenced_widgets": [
      "75b0dc39ca3041198424df2ebb4461c9",
      "ec43541fd8ea4a5bb50eb4227b531508",
      "aacad422e5434323868303918aa01a1b",
      "6d318735f75646e18d97786b7e355a11",
      "7193ecde84b64eb58f6c0e2b01ae3ea2",
      "3ebae19a39a440b5b58efa1fcb70994a",
      "ca3c9629f29c4d4cbc8dbd404dc7bd25",
      "30fffd6fc06f49dd8cdf931e4bc6cf2f",
      "21ae1c82cf5841e6b180d3fffcb9a61e",
      "f87db4dd31f146cfa94cc896d141fa01",
      "2dfabe169c26475884709a9a21cc5fce",
      "74404dc8097f4653a6b6aca788d30e1c",
      "eab0a92b30f84c22a7b7e86431312c92",
      "e92ab34d2e674637ad05cd741031f206",
      "0060622aaa5244799c7c78cf2f50252b",
      "2af3a9474c6a43a49573aa0ad1f298d1",
      "b8e7dcc1997447a3b222d34933b48ed2",
      "72b547c96f954fc7a3ae2eb5b380b83e",
      "06d9561bce7d40d682b1d19d660cabf9",
      "3f2124ac1db741cca840c7e584965e19",
      "9f3ed45a238f4e3780ced603e829f077",
      "3787c9b7ef664527adf5e824591e5fe6",
      "2bc01691bd7b416ea31c685a2f0cc169",
      "d1476ed6809b40c98408f3afc6ce5efe",
      "2e404438602e4ef3866033e25cf78860",
      "9b1ffb05c631413d88258d9739d49caa",
      "809f1ca0d32e4a1ba1efae9af6f64dc5",
      "28b172d0e9a9438aae3517297ebe9a72"
     ]
    },
    "id": "LT5HDjQaLLK6",
    "outputId": "3f5dc79c-caab-4067-b1f6-c36bd3800345"
   },
   "outputs": [
    {
     "data": {
      "application/vnd.jupyter.widget-view+json": {
       "model_id": "75b0dc39ca3041198424df2ebb4461c9",
       "version_major": 2,
       "version_minor": 0
      },
      "text/plain": [
       "interactive(children=(FloatSlider(value=2.0, description='nc', max=4.0, min=1.0), FloatSlider(value=1.0, descr…"
      ]
     },
     "metadata": {},
     "output_type": "display_data"
    }
   ],
   "source": [
    "interactive(slab, nc=(1,4,0.1), ncladtop=(1,2,0.1), ncladbot=(1,2,0.1), wavel=(0.6,2,0.2), d=(0,2,0.1))"
   ]
  },
  {
   "cell_type": "markdown",
   "metadata": {
    "id": "YA01c9I3Ahsn"
   },
   "source": [
    "Examples: \n",
    "* Spectrally separable photon-pair generation in dispersion engineered thin-film lithium niobate \n",
    " [link text](https://opg.optica.org/view_article.cfm?gotourl=%2FDirectPDFAccess%2F107CE2E4%2D774F%2D4BE4%2D823C40AE3AD25D23%5F473228%2Fol%2D47%2D11%2D2830%2Epdf%3Fda%3D1%26id%3D473228%26seq%3D0%26mobile%3Dno&org=Massachusetts%20Institute%20of%20Technology%20Libraries)\n",
    "\n"
   ]
  },
  {
   "cell_type": "markdown",
   "metadata": {
    "id": "51Wncy5OLLK6"
   },
   "source": [
    "### Problem 2: Designing a single mode waveguide\n",
    "\n",
    "Using the code above, design your waveguide for single mode operation by:\n",
    "1. Choosing a material platform: (real) refractive index of waveguide core and claddings (e.g. use https://refractiveindex.info/)\n",
    "2. Plot the effective indexes of all your calculated modes vs. slab height. Make sure you have a sufficiently large slab height range (from near-zero to microns should suffice). Use this plot to choose a slab height for which your waveguide is single mode (i.e. only a TE and a TM modes)\n",
    "3. Using your single mode slab height, investigate the effective indexes of your modes vs. wavelength. What is the shortest wavelength at which your waveguide can operate before running into multi-mode operation?"
   ]
  },
  {
   "cell_type": "markdown",
   "metadata": {
    "id": "snlnag8xLLK9"
   },
   "source": [
    "## References\n",
    "[1] Saleh, B. E. A., and Teich, M. C., \"Fundamentals of photonics\", New York: Wiley (1991)\n",
    "\n",
    "[2] Van Thourhout, D., Baets, R., Ottevaere, H., \"Microphotonics\", Universiteit Gent and Vrije Universiteit Brussel (2013)\n",
    "\n",
    "[3] Errando-Herranz, C., \"Photonic MEMS for optical information technologies\", PhD Thesis, KTH Royal Institute of Technology (2018) urn:nbn:se:kth:diva-235069\n"
   ]
  }
 ],
 "metadata": {
  "colab": {
   "provenance": [],
   "toc_visible": true
  },
  "kernelspec": {
   "display_name": "Python 3",
   "language": "python",
   "name": "python3"
  },
  "language_info": {
   "codemirror_mode": {
    "name": "ipython",
    "version": 3
   },
   "file_extension": ".py",
   "mimetype": "text/x-python",
   "name": "python",
   "nbconvert_exporter": "python",
   "pygments_lexer": "ipython3",
   "version": "3.7.3"
  },
  "widgets": {
   "application/vnd.jupyter.widget-state+json": {
    "0060622aaa5244799c7c78cf2f50252b": {
     "model_module": "@jupyter-widgets/controls",
     "model_module_version": "1.5.0",
     "model_name": "SliderStyleModel",
     "state": {
      "_model_module": "@jupyter-widgets/controls",
      "_model_module_version": "1.5.0",
      "_model_name": "SliderStyleModel",
      "_view_count": null,
      "_view_module": "@jupyter-widgets/base",
      "_view_module_version": "1.2.0",
      "_view_name": "StyleView",
      "description_width": "",
      "handle_color": null
     }
    },
    "06d9561bce7d40d682b1d19d660cabf9": {
     "model_module": "@jupyter-widgets/controls",
     "model_module_version": "1.5.0",
     "model_name": "SliderStyleModel",
     "state": {
      "_model_module": "@jupyter-widgets/controls",
      "_model_module_version": "1.5.0",
      "_model_name": "SliderStyleModel",
      "_view_count": null,
      "_view_module": "@jupyter-widgets/base",
      "_view_module_version": "1.2.0",
      "_view_name": "StyleView",
      "description_width": "",
      "handle_color": null
     }
    },
    "21ae1c82cf5841e6b180d3fffcb9a61e": {
     "model_module": "@jupyter-widgets/controls",
     "model_module_version": "1.5.0",
     "model_name": "CheckboxModel",
     "state": {
      "_dom_classes": [],
      "_model_module": "@jupyter-widgets/controls",
      "_model_module_version": "1.5.0",
      "_model_name": "CheckboxModel",
      "_view_count": null,
      "_view_module": "@jupyter-widgets/controls",
      "_view_module_version": "1.5.0",
      "_view_name": "CheckboxView",
      "description": "printit",
      "description_tooltip": null,
      "disabled": false,
      "indent": true,
      "layout": "IPY_MODEL_9b1ffb05c631413d88258d9739d49caa",
      "style": "IPY_MODEL_809f1ca0d32e4a1ba1efae9af6f64dc5",
      "value": true
     }
    },
    "28b172d0e9a9438aae3517297ebe9a72": {
     "model_module": "@jupyter-widgets/base",
     "model_module_version": "1.2.0",
     "model_name": "LayoutModel",
     "state": {
      "_model_module": "@jupyter-widgets/base",
      "_model_module_version": "1.2.0",
      "_model_name": "LayoutModel",
      "_view_count": null,
      "_view_module": "@jupyter-widgets/base",
      "_view_module_version": "1.2.0",
      "_view_name": "LayoutView",
      "align_content": null,
      "align_items": null,
      "align_self": null,
      "border": null,
      "bottom": null,
      "display": null,
      "flex": null,
      "flex_flow": null,
      "grid_area": null,
      "grid_auto_columns": null,
      "grid_auto_flow": null,
      "grid_auto_rows": null,
      "grid_column": null,
      "grid_gap": null,
      "grid_row": null,
      "grid_template_areas": null,
      "grid_template_columns": null,
      "grid_template_rows": null,
      "height": null,
      "justify_content": null,
      "justify_items": null,
      "left": null,
      "margin": null,
      "max_height": null,
      "max_width": null,
      "min_height": null,
      "min_width": null,
      "object_fit": null,
      "object_position": null,
      "order": null,
      "overflow": null,
      "overflow_x": null,
      "overflow_y": null,
      "padding": null,
      "right": null,
      "top": null,
      "visibility": null,
      "width": null
     }
    },
    "2af3a9474c6a43a49573aa0ad1f298d1": {
     "model_module": "@jupyter-widgets/base",
     "model_module_version": "1.2.0",
     "model_name": "LayoutModel",
     "state": {
      "_model_module": "@jupyter-widgets/base",
      "_model_module_version": "1.2.0",
      "_model_name": "LayoutModel",
      "_view_count": null,
      "_view_module": "@jupyter-widgets/base",
      "_view_module_version": "1.2.0",
      "_view_name": "LayoutView",
      "align_content": null,
      "align_items": null,
      "align_self": null,
      "border": null,
      "bottom": null,
      "display": null,
      "flex": null,
      "flex_flow": null,
      "grid_area": null,
      "grid_auto_columns": null,
      "grid_auto_flow": null,
      "grid_auto_rows": null,
      "grid_column": null,
      "grid_gap": null,
      "grid_row": null,
      "grid_template_areas": null,
      "grid_template_columns": null,
      "grid_template_rows": null,
      "height": null,
      "justify_content": null,
      "justify_items": null,
      "left": null,
      "margin": null,
      "max_height": null,
      "max_width": null,
      "min_height": null,
      "min_width": null,
      "object_fit": null,
      "object_position": null,
      "order": null,
      "overflow": null,
      "overflow_x": null,
      "overflow_y": null,
      "padding": null,
      "right": null,
      "top": null,
      "visibility": null,
      "width": null
     }
    },
    "2bc01691bd7b416ea31c685a2f0cc169": {
     "model_module": "@jupyter-widgets/controls",
     "model_module_version": "1.5.0",
     "model_name": "DescriptionStyleModel",
     "state": {
      "_model_module": "@jupyter-widgets/controls",
      "_model_module_version": "1.5.0",
      "_model_name": "DescriptionStyleModel",
      "_view_count": null,
      "_view_module": "@jupyter-widgets/base",
      "_view_module_version": "1.2.0",
      "_view_name": "StyleView",
      "description_width": ""
     }
    },
    "2dfabe169c26475884709a9a21cc5fce": {
     "model_module": "@jupyter-widgets/base",
     "model_module_version": "1.2.0",
     "model_name": "LayoutModel",
     "state": {
      "_model_module": "@jupyter-widgets/base",
      "_model_module_version": "1.2.0",
      "_model_name": "LayoutModel",
      "_view_count": null,
      "_view_module": "@jupyter-widgets/base",
      "_view_module_version": "1.2.0",
      "_view_name": "LayoutView",
      "align_content": null,
      "align_items": null,
      "align_self": null,
      "border": null,
      "bottom": null,
      "display": null,
      "flex": null,
      "flex_flow": null,
      "grid_area": null,
      "grid_auto_columns": null,
      "grid_auto_flow": null,
      "grid_auto_rows": null,
      "grid_column": null,
      "grid_gap": null,
      "grid_row": null,
      "grid_template_areas": null,
      "grid_template_columns": null,
      "grid_template_rows": null,
      "height": null,
      "justify_content": null,
      "justify_items": null,
      "left": null,
      "margin": null,
      "max_height": null,
      "max_width": null,
      "min_height": null,
      "min_width": null,
      "object_fit": null,
      "object_position": null,
      "order": null,
      "overflow": null,
      "overflow_x": null,
      "overflow_y": null,
      "padding": null,
      "right": null,
      "top": null,
      "visibility": null,
      "width": null
     }
    },
    "2e404438602e4ef3866033e25cf78860": {
     "model_module": "@jupyter-widgets/controls",
     "model_module_version": "1.5.0",
     "model_name": "DescriptionStyleModel",
     "state": {
      "_model_module": "@jupyter-widgets/controls",
      "_model_module_version": "1.5.0",
      "_model_name": "DescriptionStyleModel",
      "_view_count": null,
      "_view_module": "@jupyter-widgets/base",
      "_view_module_version": "1.2.0",
      "_view_name": "StyleView",
      "description_width": ""
     }
    },
    "30fffd6fc06f49dd8cdf931e4bc6cf2f": {
     "model_module": "@jupyter-widgets/controls",
     "model_module_version": "1.5.0",
     "model_name": "CheckboxModel",
     "state": {
      "_dom_classes": [],
      "_model_module": "@jupyter-widgets/controls",
      "_model_module_version": "1.5.0",
      "_model_name": "CheckboxModel",
      "_view_count": null,
      "_view_module": "@jupyter-widgets/controls",
      "_view_module_version": "1.5.0",
      "_view_name": "CheckboxView",
      "description": "plot",
      "description_tooltip": null,
      "disabled": false,
      "indent": true,
      "layout": "IPY_MODEL_d1476ed6809b40c98408f3afc6ce5efe",
      "style": "IPY_MODEL_2e404438602e4ef3866033e25cf78860",
      "value": true
     }
    },
    "3787c9b7ef664527adf5e824591e5fe6": {
     "model_module": "@jupyter-widgets/base",
     "model_module_version": "1.2.0",
     "model_name": "LayoutModel",
     "state": {
      "_model_module": "@jupyter-widgets/base",
      "_model_module_version": "1.2.0",
      "_model_name": "LayoutModel",
      "_view_count": null,
      "_view_module": "@jupyter-widgets/base",
      "_view_module_version": "1.2.0",
      "_view_name": "LayoutView",
      "align_content": null,
      "align_items": null,
      "align_self": null,
      "border": null,
      "bottom": null,
      "display": null,
      "flex": null,
      "flex_flow": null,
      "grid_area": null,
      "grid_auto_columns": null,
      "grid_auto_flow": null,
      "grid_auto_rows": null,
      "grid_column": null,
      "grid_gap": null,
      "grid_row": null,
      "grid_template_areas": null,
      "grid_template_columns": null,
      "grid_template_rows": null,
      "height": null,
      "justify_content": null,
      "justify_items": null,
      "left": null,
      "margin": null,
      "max_height": null,
      "max_width": null,
      "min_height": null,
      "min_width": null,
      "object_fit": null,
      "object_position": null,
      "order": null,
      "overflow": null,
      "overflow_x": null,
      "overflow_y": null,
      "padding": null,
      "right": null,
      "top": null,
      "visibility": null,
      "width": null
     }
    },
    "3ebae19a39a440b5b58efa1fcb70994a": {
     "model_module": "@jupyter-widgets/controls",
     "model_module_version": "1.5.0",
     "model_name": "FloatSliderModel",
     "state": {
      "_dom_classes": [],
      "_model_module": "@jupyter-widgets/controls",
      "_model_module_version": "1.5.0",
      "_model_name": "FloatSliderModel",
      "_view_count": null,
      "_view_module": "@jupyter-widgets/controls",
      "_view_module_version": "1.5.0",
      "_view_name": "FloatSliderView",
      "continuous_update": true,
      "description": "d",
      "description_tooltip": null,
      "disabled": false,
      "layout": "IPY_MODEL_3f2124ac1db741cca840c7e584965e19",
      "max": 2,
      "min": 0,
      "orientation": "horizontal",
      "readout": true,
      "readout_format": ".2f",
      "step": 0.1,
      "style": "IPY_MODEL_9f3ed45a238f4e3780ced603e829f077",
      "value": 1
     }
    },
    "3f2124ac1db741cca840c7e584965e19": {
     "model_module": "@jupyter-widgets/base",
     "model_module_version": "1.2.0",
     "model_name": "LayoutModel",
     "state": {
      "_model_module": "@jupyter-widgets/base",
      "_model_module_version": "1.2.0",
      "_model_name": "LayoutModel",
      "_view_count": null,
      "_view_module": "@jupyter-widgets/base",
      "_view_module_version": "1.2.0",
      "_view_name": "LayoutView",
      "align_content": null,
      "align_items": null,
      "align_self": null,
      "border": null,
      "bottom": null,
      "display": null,
      "flex": null,
      "flex_flow": null,
      "grid_area": null,
      "grid_auto_columns": null,
      "grid_auto_flow": null,
      "grid_auto_rows": null,
      "grid_column": null,
      "grid_gap": null,
      "grid_row": null,
      "grid_template_areas": null,
      "grid_template_columns": null,
      "grid_template_rows": null,
      "height": null,
      "justify_content": null,
      "justify_items": null,
      "left": null,
      "margin": null,
      "max_height": null,
      "max_width": null,
      "min_height": null,
      "min_width": null,
      "object_fit": null,
      "object_position": null,
      "order": null,
      "overflow": null,
      "overflow_x": null,
      "overflow_y": null,
      "padding": null,
      "right": null,
      "top": null,
      "visibility": null,
      "width": null
     }
    },
    "6d318735f75646e18d97786b7e355a11": {
     "model_module": "@jupyter-widgets/controls",
     "model_module_version": "1.5.0",
     "model_name": "FloatSliderModel",
     "state": {
      "_dom_classes": [],
      "_model_module": "@jupyter-widgets/controls",
      "_model_module_version": "1.5.0",
      "_model_name": "FloatSliderModel",
      "_view_count": null,
      "_view_module": "@jupyter-widgets/controls",
      "_view_module_version": "1.5.0",
      "_view_name": "FloatSliderView",
      "continuous_update": true,
      "description": "ncladbot",
      "description_tooltip": null,
      "disabled": false,
      "layout": "IPY_MODEL_2af3a9474c6a43a49573aa0ad1f298d1",
      "max": 2,
      "min": 1,
      "orientation": "horizontal",
      "readout": true,
      "readout_format": ".2f",
      "step": 0.1,
      "style": "IPY_MODEL_b8e7dcc1997447a3b222d34933b48ed2",
      "value": 1
     }
    },
    "7193ecde84b64eb58f6c0e2b01ae3ea2": {
     "model_module": "@jupyter-widgets/controls",
     "model_module_version": "1.5.0",
     "model_name": "FloatSliderModel",
     "state": {
      "_dom_classes": [],
      "_model_module": "@jupyter-widgets/controls",
      "_model_module_version": "1.5.0",
      "_model_name": "FloatSliderModel",
      "_view_count": null,
      "_view_module": "@jupyter-widgets/controls",
      "_view_module_version": "1.5.0",
      "_view_name": "FloatSliderView",
      "continuous_update": true,
      "description": "wavel",
      "description_tooltip": null,
      "disabled": false,
      "layout": "IPY_MODEL_72b547c96f954fc7a3ae2eb5b380b83e",
      "max": 2,
      "min": 0.6,
      "orientation": "horizontal",
      "readout": true,
      "readout_format": ".2f",
      "step": 0.2,
      "style": "IPY_MODEL_06d9561bce7d40d682b1d19d660cabf9",
      "value": 1.2000000000000002
     }
    },
    "72b547c96f954fc7a3ae2eb5b380b83e": {
     "model_module": "@jupyter-widgets/base",
     "model_module_version": "1.2.0",
     "model_name": "LayoutModel",
     "state": {
      "_model_module": "@jupyter-widgets/base",
      "_model_module_version": "1.2.0",
      "_model_name": "LayoutModel",
      "_view_count": null,
      "_view_module": "@jupyter-widgets/base",
      "_view_module_version": "1.2.0",
      "_view_name": "LayoutView",
      "align_content": null,
      "align_items": null,
      "align_self": null,
      "border": null,
      "bottom": null,
      "display": null,
      "flex": null,
      "flex_flow": null,
      "grid_area": null,
      "grid_auto_columns": null,
      "grid_auto_flow": null,
      "grid_auto_rows": null,
      "grid_column": null,
      "grid_gap": null,
      "grid_row": null,
      "grid_template_areas": null,
      "grid_template_columns": null,
      "grid_template_rows": null,
      "height": null,
      "justify_content": null,
      "justify_items": null,
      "left": null,
      "margin": null,
      "max_height": null,
      "max_width": null,
      "min_height": null,
      "min_width": null,
      "object_fit": null,
      "object_position": null,
      "order": null,
      "overflow": null,
      "overflow_x": null,
      "overflow_y": null,
      "padding": null,
      "right": null,
      "top": null,
      "visibility": null,
      "width": null
     }
    },
    "74404dc8097f4653a6b6aca788d30e1c": {
     "model_module": "@jupyter-widgets/base",
     "model_module_version": "1.2.0",
     "model_name": "LayoutModel",
     "state": {
      "_model_module": "@jupyter-widgets/base",
      "_model_module_version": "1.2.0",
      "_model_name": "LayoutModel",
      "_view_count": null,
      "_view_module": "@jupyter-widgets/base",
      "_view_module_version": "1.2.0",
      "_view_name": "LayoutView",
      "align_content": null,
      "align_items": null,
      "align_self": null,
      "border": null,
      "bottom": null,
      "display": null,
      "flex": null,
      "flex_flow": null,
      "grid_area": null,
      "grid_auto_columns": null,
      "grid_auto_flow": null,
      "grid_auto_rows": null,
      "grid_column": null,
      "grid_gap": null,
      "grid_row": null,
      "grid_template_areas": null,
      "grid_template_columns": null,
      "grid_template_rows": null,
      "height": null,
      "justify_content": null,
      "justify_items": null,
      "left": null,
      "margin": null,
      "max_height": null,
      "max_width": null,
      "min_height": null,
      "min_width": null,
      "object_fit": null,
      "object_position": null,
      "order": null,
      "overflow": null,
      "overflow_x": null,
      "overflow_y": null,
      "padding": null,
      "right": null,
      "top": null,
      "visibility": null,
      "width": null
     }
    },
    "75b0dc39ca3041198424df2ebb4461c9": {
     "model_module": "@jupyter-widgets/controls",
     "model_module_version": "1.5.0",
     "model_name": "VBoxModel",
     "state": {
      "_dom_classes": [
       "widget-interact"
      ],
      "_model_module": "@jupyter-widgets/controls",
      "_model_module_version": "1.5.0",
      "_model_name": "VBoxModel",
      "_view_count": null,
      "_view_module": "@jupyter-widgets/controls",
      "_view_module_version": "1.5.0",
      "_view_name": "VBoxView",
      "box_style": "",
      "children": [
       "IPY_MODEL_ec43541fd8ea4a5bb50eb4227b531508",
       "IPY_MODEL_aacad422e5434323868303918aa01a1b",
       "IPY_MODEL_6d318735f75646e18d97786b7e355a11",
       "IPY_MODEL_7193ecde84b64eb58f6c0e2b01ae3ea2",
       "IPY_MODEL_3ebae19a39a440b5b58efa1fcb70994a",
       "IPY_MODEL_ca3c9629f29c4d4cbc8dbd404dc7bd25",
       "IPY_MODEL_30fffd6fc06f49dd8cdf931e4bc6cf2f",
       "IPY_MODEL_21ae1c82cf5841e6b180d3fffcb9a61e",
       "IPY_MODEL_f87db4dd31f146cfa94cc896d141fa01"
      ],
      "layout": "IPY_MODEL_2dfabe169c26475884709a9a21cc5fce"
     }
    },
    "809f1ca0d32e4a1ba1efae9af6f64dc5": {
     "model_module": "@jupyter-widgets/controls",
     "model_module_version": "1.5.0",
     "model_name": "DescriptionStyleModel",
     "state": {
      "_model_module": "@jupyter-widgets/controls",
      "_model_module_version": "1.5.0",
      "_model_name": "DescriptionStyleModel",
      "_view_count": null,
      "_view_module": "@jupyter-widgets/base",
      "_view_module_version": "1.2.0",
      "_view_name": "StyleView",
      "description_width": ""
     }
    },
    "9b1ffb05c631413d88258d9739d49caa": {
     "model_module": "@jupyter-widgets/base",
     "model_module_version": "1.2.0",
     "model_name": "LayoutModel",
     "state": {
      "_model_module": "@jupyter-widgets/base",
      "_model_module_version": "1.2.0",
      "_model_name": "LayoutModel",
      "_view_count": null,
      "_view_module": "@jupyter-widgets/base",
      "_view_module_version": "1.2.0",
      "_view_name": "LayoutView",
      "align_content": null,
      "align_items": null,
      "align_self": null,
      "border": null,
      "bottom": null,
      "display": null,
      "flex": null,
      "flex_flow": null,
      "grid_area": null,
      "grid_auto_columns": null,
      "grid_auto_flow": null,
      "grid_auto_rows": null,
      "grid_column": null,
      "grid_gap": null,
      "grid_row": null,
      "grid_template_areas": null,
      "grid_template_columns": null,
      "grid_template_rows": null,
      "height": null,
      "justify_content": null,
      "justify_items": null,
      "left": null,
      "margin": null,
      "max_height": null,
      "max_width": null,
      "min_height": null,
      "min_width": null,
      "object_fit": null,
      "object_position": null,
      "order": null,
      "overflow": null,
      "overflow_x": null,
      "overflow_y": null,
      "padding": null,
      "right": null,
      "top": null,
      "visibility": null,
      "width": null
     }
    },
    "9f3ed45a238f4e3780ced603e829f077": {
     "model_module": "@jupyter-widgets/controls",
     "model_module_version": "1.5.0",
     "model_name": "SliderStyleModel",
     "state": {
      "_model_module": "@jupyter-widgets/controls",
      "_model_module_version": "1.5.0",
      "_model_name": "SliderStyleModel",
      "_view_count": null,
      "_view_module": "@jupyter-widgets/base",
      "_view_module_version": "1.2.0",
      "_view_name": "StyleView",
      "description_width": "",
      "handle_color": null
     }
    },
    "aacad422e5434323868303918aa01a1b": {
     "model_module": "@jupyter-widgets/controls",
     "model_module_version": "1.5.0",
     "model_name": "FloatSliderModel",
     "state": {
      "_dom_classes": [],
      "_model_module": "@jupyter-widgets/controls",
      "_model_module_version": "1.5.0",
      "_model_name": "FloatSliderModel",
      "_view_count": null,
      "_view_module": "@jupyter-widgets/controls",
      "_view_module_version": "1.5.0",
      "_view_name": "FloatSliderView",
      "continuous_update": true,
      "description": "ncladtop",
      "description_tooltip": null,
      "disabled": false,
      "layout": "IPY_MODEL_e92ab34d2e674637ad05cd741031f206",
      "max": 2,
      "min": 1,
      "orientation": "horizontal",
      "readout": true,
      "readout_format": ".2f",
      "step": 0.1,
      "style": "IPY_MODEL_0060622aaa5244799c7c78cf2f50252b",
      "value": 1
     }
    },
    "b8e7dcc1997447a3b222d34933b48ed2": {
     "model_module": "@jupyter-widgets/controls",
     "model_module_version": "1.5.0",
     "model_name": "SliderStyleModel",
     "state": {
      "_model_module": "@jupyter-widgets/controls",
      "_model_module_version": "1.5.0",
      "_model_name": "SliderStyleModel",
      "_view_count": null,
      "_view_module": "@jupyter-widgets/base",
      "_view_module_version": "1.2.0",
      "_view_name": "StyleView",
      "description_width": "",
      "handle_color": null
     }
    },
    "ca3c9629f29c4d4cbc8dbd404dc7bd25": {
     "model_module": "@jupyter-widgets/controls",
     "model_module_version": "1.5.0",
     "model_name": "TextModel",
     "state": {
      "_dom_classes": [],
      "_model_module": "@jupyter-widgets/controls",
      "_model_module_version": "1.5.0",
      "_model_name": "TextModel",
      "_view_count": null,
      "_view_module": "@jupyter-widgets/controls",
      "_view_module_version": "1.5.0",
      "_view_name": "TextView",
      "continuous_update": true,
      "description": "pol",
      "description_tooltip": null,
      "disabled": false,
      "layout": "IPY_MODEL_3787c9b7ef664527adf5e824591e5fe6",
      "placeholder": "​",
      "style": "IPY_MODEL_2bc01691bd7b416ea31c685a2f0cc169",
      "value": "TM"
     }
    },
    "d1476ed6809b40c98408f3afc6ce5efe": {
     "model_module": "@jupyter-widgets/base",
     "model_module_version": "1.2.0",
     "model_name": "LayoutModel",
     "state": {
      "_model_module": "@jupyter-widgets/base",
      "_model_module_version": "1.2.0",
      "_model_name": "LayoutModel",
      "_view_count": null,
      "_view_module": "@jupyter-widgets/base",
      "_view_module_version": "1.2.0",
      "_view_name": "LayoutView",
      "align_content": null,
      "align_items": null,
      "align_self": null,
      "border": null,
      "bottom": null,
      "display": null,
      "flex": null,
      "flex_flow": null,
      "grid_area": null,
      "grid_auto_columns": null,
      "grid_auto_flow": null,
      "grid_auto_rows": null,
      "grid_column": null,
      "grid_gap": null,
      "grid_row": null,
      "grid_template_areas": null,
      "grid_template_columns": null,
      "grid_template_rows": null,
      "height": null,
      "justify_content": null,
      "justify_items": null,
      "left": null,
      "margin": null,
      "max_height": null,
      "max_width": null,
      "min_height": null,
      "min_width": null,
      "object_fit": null,
      "object_position": null,
      "order": null,
      "overflow": null,
      "overflow_x": null,
      "overflow_y": null,
      "padding": null,
      "right": null,
      "top": null,
      "visibility": null,
      "width": null
     }
    },
    "e92ab34d2e674637ad05cd741031f206": {
     "model_module": "@jupyter-widgets/base",
     "model_module_version": "1.2.0",
     "model_name": "LayoutModel",
     "state": {
      "_model_module": "@jupyter-widgets/base",
      "_model_module_version": "1.2.0",
      "_model_name": "LayoutModel",
      "_view_count": null,
      "_view_module": "@jupyter-widgets/base",
      "_view_module_version": "1.2.0",
      "_view_name": "LayoutView",
      "align_content": null,
      "align_items": null,
      "align_self": null,
      "border": null,
      "bottom": null,
      "display": null,
      "flex": null,
      "flex_flow": null,
      "grid_area": null,
      "grid_auto_columns": null,
      "grid_auto_flow": null,
      "grid_auto_rows": null,
      "grid_column": null,
      "grid_gap": null,
      "grid_row": null,
      "grid_template_areas": null,
      "grid_template_columns": null,
      "grid_template_rows": null,
      "height": null,
      "justify_content": null,
      "justify_items": null,
      "left": null,
      "margin": null,
      "max_height": null,
      "max_width": null,
      "min_height": null,
      "min_width": null,
      "object_fit": null,
      "object_position": null,
      "order": null,
      "overflow": null,
      "overflow_x": null,
      "overflow_y": null,
      "padding": null,
      "right": null,
      "top": null,
      "visibility": null,
      "width": null
     }
    },
    "eab0a92b30f84c22a7b7e86431312c92": {
     "model_module": "@jupyter-widgets/controls",
     "model_module_version": "1.5.0",
     "model_name": "SliderStyleModel",
     "state": {
      "_model_module": "@jupyter-widgets/controls",
      "_model_module_version": "1.5.0",
      "_model_name": "SliderStyleModel",
      "_view_count": null,
      "_view_module": "@jupyter-widgets/base",
      "_view_module_version": "1.2.0",
      "_view_name": "StyleView",
      "description_width": "",
      "handle_color": null
     }
    },
    "ec43541fd8ea4a5bb50eb4227b531508": {
     "model_module": "@jupyter-widgets/controls",
     "model_module_version": "1.5.0",
     "model_name": "FloatSliderModel",
     "state": {
      "_dom_classes": [],
      "_model_module": "@jupyter-widgets/controls",
      "_model_module_version": "1.5.0",
      "_model_name": "FloatSliderModel",
      "_view_count": null,
      "_view_module": "@jupyter-widgets/controls",
      "_view_module_version": "1.5.0",
      "_view_name": "FloatSliderView",
      "continuous_update": true,
      "description": "nc",
      "description_tooltip": null,
      "disabled": false,
      "layout": "IPY_MODEL_74404dc8097f4653a6b6aca788d30e1c",
      "max": 4,
      "min": 1,
      "orientation": "horizontal",
      "readout": true,
      "readout_format": ".2f",
      "step": 0.1,
      "style": "IPY_MODEL_eab0a92b30f84c22a7b7e86431312c92",
      "value": 2.2
     }
    },
    "f87db4dd31f146cfa94cc896d141fa01": {
     "model_module": "@jupyter-widgets/output",
     "model_module_version": "1.0.0",
     "model_name": "OutputModel",
     "state": {
      "_dom_classes": [],
      "_model_module": "@jupyter-widgets/output",
      "_model_module_version": "1.0.0",
      "_model_name": "OutputModel",
      "_view_count": null,
      "_view_module": "@jupyter-widgets/output",
      "_view_module_version": "1.0.0",
      "_view_name": "OutputView",
      "layout": "IPY_MODEL_28b172d0e9a9438aae3517297ebe9a72",
      "msg_id": "",
      "outputs": [
       {
        "name": "stdout",
        "output_type": "stream",
        "text": [
         "Number of modes = 4\n"
        ]
       },
       {
        "data": {
         "image/png": "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\n",
         "text/plain": "<Figure size 1080x360 with 3 Axes>"
        },
        "metadata": {
         "needs_background": "light"
        },
        "output_type": "display_data"
       },
       {
        "name": "stdout",
        "output_type": "stream",
        "text": [
         "Neffs = [1.01441441 1.42642643 1.87927928 2.12312312]\n"
        ]
       }
      ]
     }
    }
   }
  }
 },
 "nbformat": 4,
 "nbformat_minor": 4
}
