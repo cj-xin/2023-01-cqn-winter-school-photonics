{
  "cells": [
    {
      "cell_type": "markdown",
      "metadata": {
        "id": "view-in-github",
        "colab_type": "text"
      },
      "source": [
        "<a href=\"https://colab.research.google.com/github/dirkenglund/2023.01.CQN_school/blob/main/Dielectric_waveguides_lecture_and_pset_studentversion.ipynb\" target=\"_parent\"><img src=\"https://colab.research.google.com/assets/colab-badge.svg\" alt=\"Open In Colab\"/></a>"
      ]
    },
    {
      "cell_type": "markdown",
      "metadata": {
        "id": "qTCy4aWdLLK0"
      },
      "source": [
        "# Dielectric waveguides: interactive lecture and p-set\n",
        "Authors: Carlos Errando Herranz, Dirk Englund | Massachusetts Institute of Technology, USA"
      ]
    },
    {
      "cell_type": "markdown",
      "metadata": {
        "id": "3PEzFmTjLLK2"
      },
      "source": [
        "## 1. Theory of dielectric waveguides\n",
        "Starting from Maxwells equations, assuming\n",
        "- isotropic and non-magnetic media,\n",
        "- harmonic time dependence $e^{j\\omega t}$, and\n",
        "- absence of sources and currents:\n",
        "\n",
        "$$\n",
        "\n",
        "1.   List item\n",
        "2.   List item\n",
        "\n",
        "\n",
        "\n",
        "\\begin{align*} \\label{eq:maxwell}\n",
        "& \\nabla\\times \\mathbf{E(r)}=-j\\omega\\mu_0 \\mathbf{H(r)} \\\\\n",
        "& \\nabla\\times \\mathbf{H(r)}=j\\omega\\varepsilon(r) \\mathbf{E(r)} \\\\\n",
        "& \\nabla\\cdot(\\varepsilon(\\mathbf{r})\\mathbf{E(r)})=0 \\\\\n",
        "& \\nabla\\cdot \\mathbf{H(r)}=0,\n",
        "\\end{align*}\\tag{1}\n",
        "$$\n",
        "\n",
        "\n",
        "where we took \n",
        "$$\n",
        "\\begin{align*}\n",
        "& \\mathbf{D}=\\varepsilon\\mathbf{E}=\\varepsilon_0n^2\\mathbf{E} \\\\\n",
        "& \\mathbf{B}=\\mu_0\\mathbf{H}.\n",
        "\\end{align*}\\tag{2}\n",
        "$$\n",
        "\n",
        "Having the master equation laid down, the only thing that remains are the boundary conditions, which, for an interface between two dielectrics with $\\varepsilon_1$ and $\\varepsilon_2$ (where $\\mathbf{n_v}$ represents the normal vector) are:\n",
        "\n",
        "$$\n",
        "\\begin{align*}\n",
        "&\\mathbf{n_v}\\times(\\mathbf{E}_1-\\mathbf{E}_2)=0 \\\\\n",
        "&\\mathbf{n_v}\\times(\\mathbf{H}_1-\\mathbf{H}_2)=0 \\\\\n",
        "&\\mathbf{n_v}\\cdot(\\varepsilon_1\\mathbf{E}_1-\\varepsilon_2\\mathbf{E}_2)=0 \\\\\n",
        "&\\mathbf{n_v}\\cdot(\\mathbf{H}_1-\\mathbf{H}_2)=0 \\\\\n",
        "\\end{align*}\n",
        "\\label{eq:bc} \\tag{5}\n",
        "$$"
      ]
    },
    {
      "cell_type": "markdown",
      "metadata": {
        "id": "uqBynXD-LLK2"
      },
      "source": [
        "### 1.1. Longitudinally invariant waveguides\n",
        "We assume that our waveguide does not vary in the propagation direction, thus $n(\\mathbf{r})=n(x,y)$\n",
        "\n",
        "**Eigenmodes are waves whose transversal shape does not change during propagation.** These will define our guided modes, so our task now is to solve for them.\n",
        "![wg](T-wg.png)\n",
        "*Fig. 1. Waveguide modes showing their E-field norm profile. a)Slab waveguide mode, and b-d)different geometries for strip and ridge waveguides.*\n",
        "\n",
        "An eigenmode propagating in $+z$ is represented by \n",
        "$$\n",
        "\\begin{align*}\n",
        "& \\mathbf{E(r)}=\\mathbf{e}(x,y)e^{-j\\beta z}\\\\\n",
        "& \\mathbf{H(r)}=\\mathbf{h}(x,y)e^{-j\\beta z},\n",
        "\\end{align*}\n",
        "\\label{eq:planarmode}\\tag{6}\n",
        "$$\n",
        "\n",
        "where $\\beta$ is the propagation constant of the eigenmode.\n",
        "From this propagation constant we can define the effective mode index as $\\text{n}_\\text{eff}=\\beta/k_0$, which relates to the effective dielectric constant $\\varepsilon_{\\text{eff}}=\\text{n}_\\text{eff}^2$.\n",
        "\n",
        "For any propagating eigenmode (being guided or radiative), $\\text{n}_\\text{eff}$ (and respectively for $\\beta$ and $\\varepsilon_{\\text{eff}}$) is bound by the maximum and minimum material refractive indices \n",
        "$\\text{min}(n(\\mathbf{r}))<\\text{n}_\\text{eff}<\\text{max}(\\text{n}(\\mathbf{r}))$, and exponentially decaying modes can feature $\\text{n}_\\text{eff}<\\text{min}(\\text{n}(\\mathbf{r}))$ and purely imaginary $\\text{n}_\\text{eff}$.\n",
        "Note that there are other mathematically valid solutions to this problem, such as exponentially growing fields in the cladding (with $\\text{n}_\\text{eff}>\\text{max}(\\text{n}(\\mathbf{r})$), which are non-physical due to them carrying infinite power.\n",
        "\n",
        "Every electromagnetic field distribution in the waveguide geometry can be described by a linear combination of the abovementioned modes (i.e. they form a complete set). \n",
        "This, in turn, means that any guided field in the waveguide has to be described by a linear combination of the finite  number of guided eigenmodes."
      ]
    },
    {
      "cell_type": "markdown",
      "metadata": {
        "id": "WbNyOYeZLLK3"
      },
      "source": [
        "### 1.2. The 3-layer slab waveguide\n",
        "Eigenmodes in common rectangular waveguides are not analytically solvable, so we use numerical methods. \n",
        "However, if we take one more simplification step and we solve for a structure that is invariant along both propagation direction $z$ and one of the perpendicular directions $y$, we can analytically solve for its eigenmodes.\n",
        "\n",
        "These structures are called slab waveguides, and, although we do not usually employ such waveguides in photonic devices, this approximation is commonly used in simulation software, and can be extremely valuable to gain intuitive understanding of waveguide modes. \n",
        "\n",
        "Applying our additional simplification to Eq. 6, we get\n",
        "$$\n",
        "\\begin{align*}\n",
        "& \\mathbf{E(r)}=\\mathbf{e}(x)e^{-j\\beta z}\\\\\n",
        "& \\mathbf{H(r)}=\\mathbf{h}(x)e^{-j\\beta z},\n",
        "\\end{align*}\n",
        "\\label{eq:planarmodex}\\tag{7}.\n",
        "$$\n",
        "\n",
        "Which we can substitute into Maxwells curl equations, leading to a system of six equations\n",
        "\n",
        "$$\n",
        "\\begin{align*}\n",
        "& \\beta e_y(x)=-\\omega\\mu_0 h_x(x)\\\\\n",
        "& \\omega\\mu_0 h_y(x)=\\beta e_x(x)-j\\frac{de_z(z)}{dx}\\\\\n",
        "& \\frac{de_y(x)}{dx}=-j\\omega\\mu_0 h_z\\\\\n",
        "& \\omega\\varepsilon_0 \\text{n}^2(x)e_y(x)=-\\beta h_x(x)+j\\frac{dh_z(z)}{dx}\\\\\n",
        "& \\frac{dh_y(x)}{dx}=j\\omega\\varepsilon_0 \\text{n}^2(x) e_z\\\\\n",
        "& \\beta h_y(x)=-\\omega\\varepsilon_0 \\text{n}^2(x) e_x(x)\\\\\n",
        "\\end{align*}\n",
        "\\label{eq:TETMsystem}\\tag{8}.\n",
        "$$\n",
        "\n",
        "This system of equations can be split in two independent sets of 3 equations, with variables $(e_y, h_x, h_z)$ and $(e_x, e_z, h_y)$ respectively. \n",
        "These define two sets of modes, which we call TE (transverse-electric, i.e. no electric field in the propagation direction $e_z=0$), and TM (transverse-magnetic, i.e. no magnetic field in the propagation direction $h_z=0$).\n",
        "\n",
        "We can reduce each of those set of equations into one (Helmholtz equation), and by assuming piecewise constant $\\text{n}(x)=\\text{n}_\\text{i}$ we can de-couple the three components of the field vectors, leading to\n",
        "\n",
        "$$\n",
        "\\begin{align*}\n",
        "& \\frac{d^2e_y(x)}{dx^2}+k_0^2\\text{n}_\\text{i}^2e_y(x)=\\beta^2e_y(x) \\\\\n",
        "&\\frac{d^2h_y(x)}{dx^2}+k_0^2\\text{n}_\\text{i}^2h_y(x)=\\beta^2h_y(x).\n",
        "\\end{align*}\n",
        "$$\n",
        "\n",
        "This is a typical eigenvalue equation ($\\frac{d^2f(x)}{dx^2}=Cf(x)$), and we know that general solutions are plane waves of the form\n",
        "\n",
        "$$\n",
        "e_y(x)=A_ie^{jk_x(x-a_i)}+B_ie^{-jk_x(x-a_i)},\n",
        "$$\n",
        "with \n",
        "$$\n",
        "k_x=\\sqrt{k_0^2\\text{n}_\\text{i}^2-\\beta^2},\n",
        "$$\n",
        "and $a_i$ defines the position on the x-axis of the wave, which we set to the top interface (only exception of the topmost film, in which $a_N=a_{N-1}$).\n",
        "\n",
        "Now, let's look at the simplest dielectric waveguide possible, a three-layer stack with a central layer of high refractive index of $\\text{n}_\\text{core} (-d\\leq x \\leq 0)$ and $-d$ and top and bottom claddings of lower index (i.e. to satisfy total internal reflection), $\\text{n}_\\text{topclad} (x\\geq0)$ and $\\text{n}_\\text{botclad} (x\\leq-d)$.\n",
        "\n",
        "![slab](slab_schematic_cropped.png)\n",
        "\n",
        "To look for its guided modes, we \n",
        "- set our fields to be zero at $\\pm \\infty$,\n",
        "- know that $\\text{min}(n(\\mathbf{r}))<\\text{n}_\\text{eff}<\\text{max}(\\text{n}(\\mathbf{r}))$,\n",
        "- and apply the boundary conditions defined in Eqs. 5 independently for TE and TM.\n",
        "\n",
        "we can reach the following equations (here example for TE $e_y$):\n",
        "\n",
        "$$\n",
        "\\begin{align*}\n",
        "&e_y(x) = Ae^{-\\delta x} &(x \\geq 0) \\\\\n",
        "&e_y(x) = A\\cos(\\kappa x)+B\\sin(\\kappa x) &(-d \\leq x \\leq 0) \\\\\n",
        "&e_y(x) = (A\\cos(\\kappa d)-B\\sin(\\kappa d))e^{\\gamma(x+d)} &(x\\leq -d)\n",
        "\\end{align*}\n",
        "$$\n",
        "\n",
        "with\n",
        "\n",
        "$$\n",
        "\\begin{align*}\n",
        "&\\delta = \\sqrt{\\beta^2-\\text{n}_\\text{botclad}^2k_0^2} \\\\\n",
        "&\\kappa = \\sqrt{\\text{n}_\\text{core}^2k_0^2-\\beta^2} \\\\\n",
        "&\\gamma = \\sqrt{\\beta^2-\\text{n}_\\text{topclad}^2k_0^2},\n",
        "\\end{align*}\n",
        "$$\n",
        "\n",
        "and \n",
        "\n",
        "$$\n",
        "\\begin{align*}\n",
        "& A=-B\\frac{\\kappa}{\\delta} & \\text{for TE}\\\\\n",
        "& \\text{Problem 1 solution goes in here} & \\text{for TM},\n",
        "\\end{align*}\n",
        "$$\n",
        "\n",
        "with $B$ an arbitrary factor that defines the optical power in the mode, which we will normalize to $1$ for simplicity.\n",
        "\n",
        "Additionally, we can extract the transcendental equations as\n",
        "$$\n",
        "\\begin{align*}\n",
        "& \\tan(\\kappa d)=\\frac{\\kappa(\\gamma+\\delta)}{\\kappa^2-\\gamma\\delta} & \\text{for TE}\\\\\n",
        "& \\text{Problem 1 solution goes in here}\n",
        "& \\text{for TM}\n",
        "\\end{align*}\n",
        "$$\n",
        "\n",
        "which can be solved for $\\beta$ numerically."
      ]
    },
    {
      "cell_type": "markdown",
      "source": [],
      "metadata": {
        "id": "3A9W2-fU7DaJ"
      }
    },
    {
      "cell_type": "markdown",
      "source": [
        "Problem 0: "
      ],
      "metadata": {
        "id": "dxomKOAe7OSe"
      }
    },
    {
      "cell_type": "code",
      "source": [
        "from IPython.display import display, HTML\n",
        "\n",
        "# Quiz\n",
        "\n",
        "\n",
        "\n",
        "# Question 1\n",
        "display(HTML('<b>Question 1:</b>'))\n",
        "display(HTML('What is the wavelength of a laser field whose photons have an energy near 2 electron volt (eV)? Choose the closest answer:'))\n",
        "\n",
        "button_1A = '<button class=\"btn btn-primary mr-2\" onclick=\"display_result(1, \\'A\\')\">A) 400 nm</button>'\n",
        "button_1B = '<button class=\"btn btn-primary mr-2\" onclick=\"display_result(1, \\'B\\')\">B) ~600 nm</button>'\n",
        "button_1C = '<button class=\"btn btn-primary mr-2\" onclick=\"display_result(1, \\'C\\')\">C) 1200 nm</button>'\n",
        "button_1D = '<button class=\"btn btn-primary mr-2\" onclick=\"display_result(1, \\'D\\')\">D) 1600 nm</button>'\n",
        "display(HTML(button_1A + button_1B + button_1C + button_1D))\n",
        "\n",
        "# Question 2\n",
        "display(HTML('<b>Question 2:</b>'))\n",
        "display(HTML('What is the function of the glass fiber core and cladding in an optical fiber coupling system?'))\n",
        "\n",
        "button_2A = '<button class=\"btn btn-primary mr-2\" onclick=\"display_result(2, \\'A\\')\">A) The core and cladding are responsible for transmitting the light signal through the fiber.</button>'\n",
        "button_2B = '<button class=\"btn btn-primary mr-2\" onclick=\"display_result(2, \\'B\\')\">B) The core and cladding are used to protect the fiber from damage.</button>'\n",
        "button_2C = '<button class=\"btn btn-primary mr-2\" onclick=\"display_result(2, \\'C\\')\">C) The core and cladding are used to focus the light onto the fiber.</button>'\n",
        "button_2D = '<button class=\"btn btn-primary mr-2\" onclick=\"display_result(2, \\'D\\')\">D) Both A and B</button>'\n",
        "display(HTML(button_2A + button_2B + button_2C + button_2D))\n",
        "\n",
        "# Question 3\n",
        "display(HTML('<b>Question 3:</b>'))\n",
        "display(HTML('Which of the following is NOT a specification of an optical fiber used in coupling systems?'))\n",
        "\n",
        "button_3A = '<button class=\"btn btn-primary mr-2\" onclick=\"display_result(3, \\'A\\')\">A) Core width</button>'\n",
        "button_3B = '<button class=\"btn btn-primary mr-2\" onclick=\"display_result(3, \\'B\\')\">B) Cladding width</button>'\n",
        "button_3C = '<button class=\"btn btn-primary mr-2\" onclick=\"display_result(3, \\'C\\')\">C) Jacketing</button>'\n",
        "button_3D = '<button class=\"btn btn-primary mr-2\" onclick=\"display_result(3, \\'D\\')\">D) Fiber type</button>'\n",
        "display(HTML(button_3A + button_3B + button_3C + button_3D))\n",
        "\n",
        "\n",
        "# Question 4\n",
        "display(HTML('<b>Question 4:</b>'))\n",
        "display(HTML('What is the purpose of a fiber collimator package in an optical fiber coupling system?'))\n",
        "\n",
        "button_4A = '<button class=\"btn btn-primary mr-2\" onclick=\"display_result(4, \\'A\\')\">A) It is used to align the fibers.</button>'\n",
        "button_4B = '<button class=\"btn btn-primary mr-2\" onclick=\"display_result(4, \\'B\\')\">B) It is used to collimate the beam of light coming from the fiber.</button>'\n",
        "button_4C = '<button class=\"btn btn-primary mr-2\" onclick=\"display_result(4, \\'C\\')\">C) It is used to focus the beam of light onto the fiber.</button>'\n",
        "button_4D = '<button class=\"btn btn-primary mr-2\" onclick=\"display_result(4, \\'D\\')\">D) All of the above</button>'\n",
        "display(HTML(button_4A + button_4B + button_4C + button_4D))\n",
        "\n",
        "# Question 5\n",
        "display(HTML('<b>Question 5:</b>'))\n",
        "display(HTML('What is the efficiency in power transfer from an optical fiber to a collimated beam, and back to the fiber?'))\n",
        "\n",
        "button_5A = '<button class=\"btn btn-primary mr-2\" onclick=\"display_result(5, \\'A\\')\">A) 50%</button>'\n",
        "button_5B = '<button class=\"btn btn-primary mr-2\" onclick=\"display_result(5, \\'B\\')\">B) 75%</button>'\n",
        "button_5C = '<button class=\"btn btn-primary mr-2\" onclick=\"display_result(5, \\'C\\')\">C) 90%</button>'\n",
        "button_5D = '<button class=\"btn btn-primary mr-2\" onclick=\"display_result(5, \\'D\\')\">D) 100%</button>'\n",
        "display(HTML(button_5A + button_5B + button_5C + button_5D))\n",
        "\n",
        "# Question 6\n",
        "display(HTML('<b>Question 6:</b>'))\n",
        "display(HTML('In an optical fiber coupling system, how is the beam alignment achieved?'))\n",
        "\n",
        "button_6A = '<button class=\"btn btn-primary mr-2\" onclick=\"display_result(6, \\'A\\')\">A) By adjusting the position of the fibers using a fiber manipulator.</button>'\n",
        "button_6B = '<button class=\"btn btn-primary mr-2\" onclick=\"display_result(6, \\'B\\')\">B) By adjusting the focus of the beam using a lens.</button>'\n",
        "button_6C = '<button class=\"btn btn-primary mr-2\" onclick=\"display_result(6, \\'C\\')\">C) By adjusting the power of the laser.</button>'\n",
        "button_6D = '<button class=\"btn btn-primary mr-2\" onclick=\"display_result(5, \\'D\\')\">D) 100%</button>'\n",
        "display(HTML(button_6A + button_6B + button_6C + button_6D))\n",
        "\n",
        "\n",
        "display(HTML('<b>Question 7:</b>'))\n",
        "display(HTML('How is the number of photons collected on a diode per second calculated from the power of the beam in an optical fiber coupling system?'))\n",
        "\n",
        "button_7A = '<button class=\"btn btn-primary mr-2\" onclick=\"display_result(7, \\'A\\')\">A) By using the equation P = hfN, where P is the power, h is the Planck constant, f is the frequency of the light, and N is the number of photons.</button>'\n",
        "button_7B = '<button class=\"btn btn-primary mr-2\" onclick=\"display_result(7, \\'B\\')\">B) By using the equation P = E/t, where P is the power, E is the energy of the light, and t is the time period.</button>'\n",
        "button_7C = '<button class=\"btn btn-primary mr-2\" onclick=\"display_result(7, \\'C\\')\">C) By using the equation P = IV, where P is the power, I is the current, and V is the voltage.</button>'\n",
        "button_7D = '<button class=\"btn btn-primary mr-2\" onclick=\"display_result(7, \\'D\\')\">D) None of the above</button>'\n",
        "display(HTML(button_7A + button_7B + button_7C + button_7D))\n",
        "\n",
        "# Results\n",
        "display(HTML('<div id=\"results\" style=\"display: none;\"><b>Results:</b></div>'))\n",
        "\n",
        "# Function to display results\n",
        "def display_result(question, answer):\n",
        "  if quiz_answers[question] == answer:\n",
        "    display(HTML('<div style=\"color: green;\">Correct</div>'))\n",
        "  else:\n",
        "    display(HTML('<div style=\"color: red;\">Incorrect</div>'))\n",
        "  display(HTML('<br>'))\n",
        "  display(HTML('<button class=\"btn btn-primary mr-2\" onclick=\"show_results()\">Show results</button>'))\n",
        "\n",
        "# Function to show results\n",
        "def show_results():\n",
        "  results_html = '<ul>'\n",
        "  for i in range(1,8):\n",
        "    results_html += '<li>Question ' + str(i) + ': '\n",
        "    if quiz_answers[i] == 'A':\n",
        "      results_html += 'A) 400 nm'\n",
        "    elif quiz_answers[i] == 'B':\n",
        "      results_html += 'B) ~600 nm'\n",
        "    elif quiz_answers[i] == 'C':\n",
        "      results_html += 'C) 1200 nm'\n",
        "    elif quiz_answers[i] == 'D':\n",
        "      results_html += 'D) 1600 nm'\n",
        "    results_html += '</li>'\n",
        "  results_html += '</ul>'\n",
        "  display(HTML(results_html))\n",
        "  display(HTML('<button class=\"btn btn-primary mr-2\" onclick=\"test_quiz_answers()\">Test answers</button>'))"
      ],
      "metadata": {
        "colab": {
          "base_uri": "https://localhost:8080/",
          "height": 475
        },
        "id": "oX3WozD40H3Z",
        "outputId": "102672f1-dfdc-463e-b67a-89a78b4835a6"
      },
      "execution_count": null,
      "outputs": [
        {
          "output_type": "display_data",
          "data": {
            "text/plain": [
              "<IPython.core.display.HTML object>"
            ],
            "text/html": [
              "<b>Question 1:</b>"
            ]
          },
          "metadata": {}
        },
        {
          "output_type": "display_data",
          "data": {
            "text/plain": [
              "<IPython.core.display.HTML object>"
            ],
            "text/html": [
              "What is the wavelength of a laser field whose photons have an energy near 2 electron volt (eV)? Choose the closest answer:"
            ]
          },
          "metadata": {}
        },
        {
          "output_type": "display_data",
          "data": {
            "text/plain": [
              "<IPython.core.display.HTML object>"
            ],
            "text/html": [
              "<button class=\"btn btn-primary mr-2\" onclick=\"display_result(1, 'A')\">A) 400 nm</button><button class=\"btn btn-primary mr-2\" onclick=\"display_result(1, 'B')\">B) ~600 nm</button><button class=\"btn btn-primary mr-2\" onclick=\"display_result(1, 'C')\">C) 1200 nm</button><button class=\"btn btn-primary mr-2\" onclick=\"display_result(1, 'D')\">D) 1600 nm</button>"
            ]
          },
          "metadata": {}
        },
        {
          "output_type": "display_data",
          "data": {
            "text/plain": [
              "<IPython.core.display.HTML object>"
            ],
            "text/html": [
              "<b>Question 2:</b>"
            ]
          },
          "metadata": {}
        },
        {
          "output_type": "display_data",
          "data": {
            "text/plain": [
              "<IPython.core.display.HTML object>"
            ],
            "text/html": [
              "What is the function of the glass fiber core and cladding in an optical fiber coupling system?"
            ]
          },
          "metadata": {}
        },
        {
          "output_type": "display_data",
          "data": {
            "text/plain": [
              "<IPython.core.display.HTML object>"
            ],
            "text/html": [
              "<button class=\"btn btn-primary mr-2\" onclick=\"display_result(2, 'A')\">A) The core and cladding are responsible for transmitting the light signal through the fiber.</button><button class=\"btn btn-primary mr-2\" onclick=\"display_result(2, 'B')\">B) The core and cladding are used to protect the fiber from damage.</button><button class=\"btn btn-primary mr-2\" onclick=\"display_result(2, 'C')\">C) The core and cladding are used to focus the light onto the fiber.</button><button class=\"btn btn-primary mr-2\" onclick=\"display_result(2, 'D')\">D) Both A and B</button>"
            ]
          },
          "metadata": {}
        },
        {
          "output_type": "display_data",
          "data": {
            "text/plain": [
              "<IPython.core.display.HTML object>"
            ],
            "text/html": [
              "<b>Question 3:</b>"
            ]
          },
          "metadata": {}
        },
        {
          "output_type": "display_data",
          "data": {
            "text/plain": [
              "<IPython.core.display.HTML object>"
            ],
            "text/html": [
              "Which of the following is NOT a specification of an optical fiber used in coupling systems?"
            ]
          },
          "metadata": {}
        },
        {
          "output_type": "display_data",
          "data": {
            "text/plain": [
              "<IPython.core.display.HTML object>"
            ],
            "text/html": [
              "<button class=\"btn btn-primary mr-2\" onclick=\"display_result(3, 'A')\">A) Core width</button><button class=\"btn btn-primary mr-2\" onclick=\"display_result(3, 'B')\">B) Cladding width</button><button class=\"btn btn-primary mr-2\" onclick=\"display_result(3, 'C')\">C) Jacketing</button><button class=\"btn btn-primary mr-2\" onclick=\"display_result(3, 'D')\">D) Fiber type</button>"
            ]
          },
          "metadata": {}
        },
        {
          "output_type": "display_data",
          "data": {
            "text/plain": [
              "<IPython.core.display.HTML object>"
            ],
            "text/html": [
              "<b>Question 4:</b>"
            ]
          },
          "metadata": {}
        },
        {
          "output_type": "display_data",
          "data": {
            "text/plain": [
              "<IPython.core.display.HTML object>"
            ],
            "text/html": [
              "What is the purpose of a fiber collimator package in an optical fiber coupling system?"
            ]
          },
          "metadata": {}
        },
        {
          "output_type": "display_data",
          "data": {
            "text/plain": [
              "<IPython.core.display.HTML object>"
            ],
            "text/html": [
              "<button class=\"btn btn-primary mr-2\" onclick=\"display_result(4, 'A')\">A) It is used to align the fibers.</button><button class=\"btn btn-primary mr-2\" onclick=\"display_result(4, 'B')\">B) It is used to collimate the beam of light coming from the fiber.</button><button class=\"btn btn-primary mr-2\" onclick=\"display_result(4, 'C')\">C) It is used to focus the beam of light onto the fiber.</button><button class=\"btn btn-primary mr-2\" onclick=\"display_result(4, 'D')\">D) All of the above</button>"
            ]
          },
          "metadata": {}
        },
        {
          "output_type": "display_data",
          "data": {
            "text/plain": [
              "<IPython.core.display.HTML object>"
            ],
            "text/html": [
              "<b>Question 5:</b>"
            ]
          },
          "metadata": {}
        },
        {
          "output_type": "display_data",
          "data": {
            "text/plain": [
              "<IPython.core.display.HTML object>"
            ],
            "text/html": [
              "What is the efficiency in power transfer from an optical fiber to a collimated beam, and back to the fiber?"
            ]
          },
          "metadata": {}
        },
        {
          "output_type": "display_data",
          "data": {
            "text/plain": [
              "<IPython.core.display.HTML object>"
            ],
            "text/html": [
              "<button class=\"btn btn-primary mr-2\" onclick=\"display_result(5, 'A')\">A) 50%</button><button class=\"btn btn-primary mr-2\" onclick=\"display_result(5, 'B')\">B) 75%</button><button class=\"btn btn-primary mr-2\" onclick=\"display_result(5, 'C')\">C) 90%</button><button class=\"btn btn-primary mr-2\" onclick=\"display_result(5, 'D')\">D) 100%</button>"
            ]
          },
          "metadata": {}
        },
        {
          "output_type": "display_data",
          "data": {
            "text/plain": [
              "<IPython.core.display.HTML object>"
            ],
            "text/html": [
              "<b>Question 6:</b>"
            ]
          },
          "metadata": {}
        },
        {
          "output_type": "display_data",
          "data": {
            "text/plain": [
              "<IPython.core.display.HTML object>"
            ],
            "text/html": [
              "In an optical fiber coupling system, how is the beam alignment achieved?"
            ]
          },
          "metadata": {}
        },
        {
          "output_type": "display_data",
          "data": {
            "text/plain": [
              "<IPython.core.display.HTML object>"
            ],
            "text/html": [
              "<button class=\"btn btn-primary mr-2\" onclick=\"display_result(6, 'A')\">A) By adjusting the position of the fibers using a fiber manipulator.</button><button class=\"btn btn-primary mr-2\" onclick=\"display_result(6, 'B')\">B) By adjusting the focus of the beam using a lens.</button><button class=\"btn btn-primary mr-2\" onclick=\"display_result(6, 'C')\">C) By adjusting the power of the laser.</button><button class=\"btn btn-primary mr-2\" onclick=\"display_result(5, 'D')\">D) 100%</button>"
            ]
          },
          "metadata": {}
        },
        {
          "output_type": "display_data",
          "data": {
            "text/plain": [
              "<IPython.core.display.HTML object>"
            ],
            "text/html": [
              "<b>Question 7:</b>"
            ]
          },
          "metadata": {}
        },
        {
          "output_type": "display_data",
          "data": {
            "text/plain": [
              "<IPython.core.display.HTML object>"
            ],
            "text/html": [
              "How is the number of photons collected on a diode per second calculated from the power of the beam in an optical fiber coupling system?"
            ]
          },
          "metadata": {}
        },
        {
          "output_type": "display_data",
          "data": {
            "text/plain": [
              "<IPython.core.display.HTML object>"
            ],
            "text/html": [
              "<button class=\"btn btn-primary mr-2\" onclick=\"display_result(7, 'A')\">A) By using the equation P = hfN, where P is the power, h is the Planck constant, f is the frequency of the light, and N is the number of photons.</button><button class=\"btn btn-primary mr-2\" onclick=\"display_result(7, 'B')\">B) By using the equation P = E/t, where P is the power, E is the energy of the light, and t is the time period.</button><button class=\"btn btn-primary mr-2\" onclick=\"display_result(7, 'C')\">C) By using the equation P = IV, where P is the power, I is the current, and V is the voltage.</button><button class=\"btn btn-primary mr-2\" onclick=\"display_result(7, 'D')\">D) None of the above</button>"
            ]
          },
          "metadata": {}
        },
        {
          "output_type": "display_data",
          "data": {
            "text/plain": [
              "<IPython.core.display.HTML object>"
            ],
            "text/html": [
              "<div id=\"results\" style=\"display: none;\"><b>Results:</b></div>"
            ]
          },
          "metadata": {}
        }
      ]
    },
    {
      "cell_type": "code",
      "source": [
        "# Get quiz answers from user\n",
        "quiz_answers = []\n",
        "for i in range(1, 8):\n",
        "  while True:\n",
        "    answer = input(f'Enter the answer for question {i}: ')\n",
        "    if answer in ['A', 'B', 'C', 'D']:\n",
        "      quiz_answers.append(answer)\n",
        "      break\n",
        "    else:\n",
        "      print('Invalid answer. Please enter a valid answer (A, B, C, or D).')\n",
        "\n",
        "\n",
        "\n"
      ],
      "metadata": {
        "id": "vmWmz2Gv2m74",
        "colab": {
          "base_uri": "https://localhost:8080/",
          "height": 389
        },
        "outputId": "fc3fa014-dc08-490a-e4e1-52c47b8edffe"
      },
      "execution_count": 5,
      "outputs": [
        {
          "output_type": "error",
          "ename": "KeyboardInterrupt",
          "evalue": "ignored",
          "traceback": [
            "\u001b[0;31m---------------------------------------------------------------------------\u001b[0m",
            "\u001b[0;31mKeyboardInterrupt\u001b[0m                         Traceback (most recent call last)",
            "\u001b[0;32m<ipython-input-5-76b6c1aa331e>\u001b[0m in \u001b[0;36m<module>\u001b[0;34m\u001b[0m\n\u001b[1;32m      3\u001b[0m \u001b[0;32mfor\u001b[0m \u001b[0mi\u001b[0m \u001b[0;32min\u001b[0m \u001b[0mrange\u001b[0m\u001b[0;34m(\u001b[0m\u001b[0;36m1\u001b[0m\u001b[0;34m,\u001b[0m \u001b[0;36m8\u001b[0m\u001b[0;34m)\u001b[0m\u001b[0;34m:\u001b[0m\u001b[0;34m\u001b[0m\u001b[0;34m\u001b[0m\u001b[0m\n\u001b[1;32m      4\u001b[0m   \u001b[0;32mwhile\u001b[0m \u001b[0;32mTrue\u001b[0m\u001b[0;34m:\u001b[0m\u001b[0;34m\u001b[0m\u001b[0;34m\u001b[0m\u001b[0m\n\u001b[0;32m----> 5\u001b[0;31m     \u001b[0manswer\u001b[0m \u001b[0;34m=\u001b[0m \u001b[0minput\u001b[0m\u001b[0;34m(\u001b[0m\u001b[0;34mf'Enter the answer for question {i}: '\u001b[0m\u001b[0;34m)\u001b[0m\u001b[0;34m\u001b[0m\u001b[0;34m\u001b[0m\u001b[0m\n\u001b[0m\u001b[1;32m      6\u001b[0m     \u001b[0;32mif\u001b[0m \u001b[0manswer\u001b[0m \u001b[0;32min\u001b[0m \u001b[0;34m[\u001b[0m\u001b[0;34m'A'\u001b[0m\u001b[0;34m,\u001b[0m \u001b[0;34m'B'\u001b[0m\u001b[0;34m,\u001b[0m \u001b[0;34m'C'\u001b[0m\u001b[0;34m,\u001b[0m \u001b[0;34m'D'\u001b[0m\u001b[0;34m]\u001b[0m\u001b[0;34m:\u001b[0m\u001b[0;34m\u001b[0m\u001b[0;34m\u001b[0m\u001b[0m\n\u001b[1;32m      7\u001b[0m       \u001b[0mquiz_answers\u001b[0m\u001b[0;34m.\u001b[0m\u001b[0mappend\u001b[0m\u001b[0;34m(\u001b[0m\u001b[0manswer\u001b[0m\u001b[0;34m)\u001b[0m\u001b[0;34m\u001b[0m\u001b[0;34m\u001b[0m\u001b[0m\n",
            "\u001b[0;32m/usr/local/lib/python3.8/dist-packages/ipykernel/kernelbase.py\u001b[0m in \u001b[0;36mraw_input\u001b[0;34m(self, prompt)\u001b[0m\n\u001b[1;32m    858\u001b[0m                 \u001b[0;34m\"raw_input was called, but this frontend does not support input requests.\"\u001b[0m\u001b[0;34m\u001b[0m\u001b[0;34m\u001b[0m\u001b[0m\n\u001b[1;32m    859\u001b[0m             )\n\u001b[0;32m--> 860\u001b[0;31m         return self._input_request(str(prompt),\n\u001b[0m\u001b[1;32m    861\u001b[0m             \u001b[0mself\u001b[0m\u001b[0;34m.\u001b[0m\u001b[0m_parent_ident\u001b[0m\u001b[0;34m,\u001b[0m\u001b[0;34m\u001b[0m\u001b[0;34m\u001b[0m\u001b[0m\n\u001b[1;32m    862\u001b[0m             \u001b[0mself\u001b[0m\u001b[0;34m.\u001b[0m\u001b[0m_parent_header\u001b[0m\u001b[0;34m,\u001b[0m\u001b[0;34m\u001b[0m\u001b[0;34m\u001b[0m\u001b[0m\n",
            "\u001b[0;32m/usr/local/lib/python3.8/dist-packages/ipykernel/kernelbase.py\u001b[0m in \u001b[0;36m_input_request\u001b[0;34m(self, prompt, ident, parent, password)\u001b[0m\n\u001b[1;32m    902\u001b[0m             \u001b[0;32mexcept\u001b[0m \u001b[0mKeyboardInterrupt\u001b[0m\u001b[0;34m:\u001b[0m\u001b[0;34m\u001b[0m\u001b[0;34m\u001b[0m\u001b[0m\n\u001b[1;32m    903\u001b[0m                 \u001b[0;31m# re-raise KeyboardInterrupt, to truncate traceback\u001b[0m\u001b[0;34m\u001b[0m\u001b[0;34m\u001b[0m\u001b[0;34m\u001b[0m\u001b[0m\n\u001b[0;32m--> 904\u001b[0;31m                 \u001b[0;32mraise\u001b[0m \u001b[0mKeyboardInterrupt\u001b[0m\u001b[0;34m(\u001b[0m\u001b[0;34m\"Interrupted by user\"\u001b[0m\u001b[0;34m)\u001b[0m \u001b[0;32mfrom\u001b[0m \u001b[0;32mNone\u001b[0m\u001b[0;34m\u001b[0m\u001b[0;34m\u001b[0m\u001b[0m\n\u001b[0m\u001b[1;32m    905\u001b[0m             \u001b[0;32mexcept\u001b[0m \u001b[0mException\u001b[0m \u001b[0;32mas\u001b[0m \u001b[0me\u001b[0m\u001b[0;34m:\u001b[0m\u001b[0;34m\u001b[0m\u001b[0;34m\u001b[0m\u001b[0m\n\u001b[1;32m    906\u001b[0m                 \u001b[0mself\u001b[0m\u001b[0;34m.\u001b[0m\u001b[0mlog\u001b[0m\u001b[0;34m.\u001b[0m\u001b[0mwarning\u001b[0m\u001b[0;34m(\u001b[0m\u001b[0;34m\"Invalid Message:\"\u001b[0m\u001b[0;34m,\u001b[0m \u001b[0mexc_info\u001b[0m\u001b[0;34m=\u001b[0m\u001b[0;32mTrue\u001b[0m\u001b[0;34m)\u001b[0m\u001b[0;34m\u001b[0m\u001b[0;34m\u001b[0m\u001b[0m\n",
            "\u001b[0;31mKeyboardInterrupt\u001b[0m: Interrupted by user"
          ]
        }
      ]
    },
    {
      "cell_type": "code",
      "source": [
        "def test_quiz_answers(quiz_answers):\n",
        "  correct_answers = 0\n",
        "  incorrect_answers = 0\n",
        "  \n",
        "  expected_answers = ['B', 'D', 'D', 'D', 'C', 'D', 'A']\n",
        "  for i in range(1, 8):\n",
        "    if i > len(quiz_answers):\n",
        "      print(f'No answer provided for question {i}')\n",
        "      continue\n",
        "    if quiz_answers[i-1] == expected_answers[i-1]:\n",
        "      correct_answers += 1\n",
        "    else:\n",
        "      incorrect_answers += 1\n",
        "      \n",
        "  print(f'Number of correct answers: {correct_answers}')\n",
        "  print(f'Number of incorrect answers: {incorrect_answers}')\n",
        "\n",
        "\n",
        "\n",
        "# Test quiz answers\n",
        "test_quiz_answers(quiz_answers)"
      ],
      "metadata": {
        "colab": {
          "base_uri": "https://localhost:8080/"
        },
        "id": "sy6aln9q5RWE",
        "outputId": "badb0a46-a470-4cdd-f124-03f852229b94"
      },
      "execution_count": null,
      "outputs": [
        {
          "output_type": "stream",
          "name": "stdout",
          "text": [
            "Number of correct answers: 1\n",
            "Number of incorrect answers: 6\n"
          ]
        }
      ]
    },
    {
      "cell_type": "markdown",
      "metadata": {
        "id": "h2NcxoJDLLK4"
      },
      "source": [
        "### Problem 1: TM modes in a slab waveguide\n",
        "The following code solves for the fields in a slab waveguide for TE modes, given the refractive indexes of the core and claddings, the wavelength, and the slab thickness $d$. \n",
        "\n",
        "Complete the code by calculating the solutions for TM mode and coding them in.\n",
        "\n",
        "You can double-check your solutions (propagation constants, effective mode indices, and shape of the E and H fields) are correct using the online solver https://www.computational-photonics.eu/oms.html. Note that the field normalization in this online solver might be different than yours."
      ]
    },
    {
      "cell_type": "code",
      "execution_count": 6,
      "metadata": {
        "id": "Wzy12RDQLLK4"
      },
      "outputs": [],
      "source": [
        "import numpy as np\n",
        "from numpy.lib import scimath as sm\n",
        "import matplotlib.pyplot as plt\n",
        "from ipywidgets import interactive\n",
        "from scipy.signal import find_peaks\n",
        "import scipy.constants as sciconst"
      ]
    },
    {
      "cell_type": "code",
      "execution_count": 7,
      "metadata": {
        "id": "Jrp9zRwXLLK5",
        "colab": {
          "base_uri": "https://localhost:8080/"
        },
        "outputId": "c9b2b962-ada5-411a-f893-10e8acd71163"
      },
      "outputs": [
        {
          "output_type": "stream",
          "name": "stdout",
          "text": [
            "Number of modes = 2\n",
            "Neffs = [1.03803804 1.75075075]\n"
          ]
        }
      ],
      "source": [
        "plottest=False # This lets you plot the graph showing the numerical solutions to the transcendental equations\n",
        "def slab(nc, ncladtop, ncladbot, wavel, d, pol='TE', plot=False): \n",
        "    # Wavelength and thickness inputs are in um\n",
        "    wavel=wavel*1e-6\n",
        "    d=d*1e-6 \n",
        "    k0=2*np.pi/wavel\n",
        "    omega=k0*sciconst.c\n",
        "    beta=np.linspace(min(nc,ncladtop,ncladbot),max(nc,ncladtop,ncladbot),num=1000)*2*np.pi/wavel\n",
        "    \n",
        "    delta=sm.sqrt(beta**2-ncladbot**2*k0**2)\n",
        "    kappa=sm.sqrt(nc**2*k0**2-beta**2)\n",
        "    gamma=sm.sqrt(beta**2-ncladtop**2*k0**2)\n",
        "    \n",
        "    # Numerically solve for the transcendental equation\n",
        "    left=np.tan(kappa*d)\n",
        "    if pol=='TE':\n",
        "        right=kappa*(gamma+delta)/(kappa**2-gamma*delta)\n",
        "    #elif pol=='TM':\n",
        "        # Problem 1 solution goes in here\n",
        "    fun=-abs(left-right)\n",
        "    peaks=find_peaks(fun)\n",
        "    \n",
        "    # This lets you plot the transcendental equation\n",
        "    if plottest==True:\n",
        "        plt.figure(1)\n",
        "        plt.plot(beta*wavel/np.pi/2,left, beta*wavel/np.pi/2, right)\n",
        "        plt.ylim(-10, 10)\n",
        "        plt.xlabel('Effective index')\n",
        "        plt.figure(2)\n",
        "        plt.plot(beta*wavel/np.pi/2,fun)\n",
        "        plt.xlabel('Effective index')\n",
        "        plt.ylim(-1, 0)\n",
        "    \n",
        "    # Calculate betaeff and neff\n",
        "    betas=beta[peaks[0][:]]\n",
        "    neffs=beta[peaks[0][:]]*wavel/2/np.pi\n",
        "    \n",
        "    # Number of modes\n",
        "    M=len(neffs)\n",
        "    print('Number of modes = '+ str(M))\n",
        "    \n",
        "    # Calculate and plot electric field\n",
        "    if plot==True:\n",
        "        x1=np.linspace(0,2*d,num=100)\n",
        "        x2=np.linspace(-d,0,num=100)\n",
        "        x3=np.linspace(-3*d,-d,num=100)\n",
        "        B=1\n",
        "        fig, axs = plt.subplots(1,3,figsize=(15,15/3))\n",
        "        for b in betas:\n",
        "            deltab=np.sqrt(b**2-ncladbot**2*k0**2)\n",
        "            kappab=np.sqrt(nc**2*k0**2-b**2)\n",
        "            gammab=np.sqrt(b**2-ncladtop**2*k0**2)\n",
        "            if pol=='TE':\n",
        "                A=-B*kappab/deltab\n",
        "            #elif pol=='TM':\n",
        "                # Problem 1 solution goes in here\n",
        "            ey1=A*np.exp(-deltab*x1)\n",
        "            ey2=A*np.cos(kappab*x2)+B*np.sin(kappab*x2)\n",
        "            ey3=(A*np.cos(kappab*d)-B*np.sin(kappab*d))*np.exp(gammab*(x3+d))\n",
        "            hx1=-b*ey1/omega/sciconst.mu_0\n",
        "            hx2=-b*ey2/omega/sciconst.mu_0\n",
        "            hx3=-b*ey3/omega/sciconst.mu_0\n",
        "            hz1=-(-1/1j/omega/sciconst.mu_0)*deltab*A*np.exp(-deltab*x1)\n",
        "            hz2=(-1/1j/omega/sciconst.mu_0)*(-A*kappab*np.sin(kappab*x2)+B*kappab*np.cos(kappab*x2))\n",
        "            hz3=(-1/1j/omega/sciconst.mu_0)*gammab*(A*np.cos(kappab*d)-B*np.sin(kappab*d))*np.exp(gammab*(x3+d))\n",
        "            if pol=='TE':\n",
        "                axs[0].plot(x1*1e6, ey1, x2*1e6, ey2, x3*1e6, ey3)\n",
        "                axs[0].set_title(\"Ey\")\n",
        "                axs[1].plot(x1*1e6, hx1, x2*1e6, hx2, x3*1e6, hx3)\n",
        "                axs[1].set_title(\"Hx\")\n",
        "                axs[2].plot(x1*1e6, np.real(1j*hz1), x2*1e6, np.real(1j*hz2), x3*1e6, np.real(1j*hz3)) #shifted by pi\n",
        "                axs[2].set_title(\"Hz\")\n",
        "            #elif pol=='TM':\n",
        "                # Problem 1 solution goes in here\n",
        "        axs[0].set(ylabel='Field (a.u.)')\n",
        "        for ax in axs.flat:\n",
        "            ax.set(xlabel='Distance in x')\n",
        "        plt.show()\n",
        "    print('Neffs = '+ str(neffs))\n",
        "    return\n",
        "\n",
        "slab(2,1,1,1.55,0.5, pol='TE', plot=False)"
      ]
    },
    {
      "cell_type": "code",
      "execution_count": 8,
      "metadata": {
        "id": "LT5HDjQaLLK6",
        "colab": {
          "base_uri": "https://localhost:8080/",
          "height": 277,
          "referenced_widgets": [
            "f062bf6575864ee3b8d92c95f72d8a5c",
            "66c809ea124d4e89858dec8c8c4882bf",
            "1fbfc98d44044a099ac981592642ad7c",
            "95b0ee1198ba48a29f0e2af91665a943",
            "69cb14ef9c5a4cf6923a06e19e2e843f",
            "30c381dae0354980ab13487e8db8c13c",
            "3a18d773f88041eeb6123ea023747bdb",
            "c16939235f8f476e847cf632743974cf",
            "be570ce731964a299a9ba38b96c50d77",
            "e28db84b242a424ca5f13ebb1e5e87f6",
            "c33d2320e83e4f919dad1fa8bb712375",
            "986eaf0994aa4ee8a571cb40900399d2",
            "1b484776fb8b4c3baca36d32054689f3",
            "54194aaeb39d4e339a6b06f6e97bf561",
            "990a2cd7d85c495097110520ff4104e7",
            "7a74dcac288a4d14bc3e54a07a811e30",
            "cfe19cbcec304d1f81ea14c55fe521ce",
            "737f72d02a144aa8b48e2799a36d8c8b",
            "6e9599e2ca274611bd52c1266b5ade80",
            "cba4412662a54d258d8aa3f2160e38ea",
            "3fb98b396c8a4371b3eb12e06976645d",
            "1bf5514a1bac4ff88555b647f8af6db3",
            "8d99bfecd7df4ebc96d40503aabc2536",
            "4372936948eb489b86fdd95a8898111f",
            "9166f3cbee27428fb424a2a3a3af3c9a"
          ]
        },
        "outputId": "2bcde824-56a4-4837-fac6-bec0abcdb2e4"
      },
      "outputs": [
        {
          "output_type": "display_data",
          "data": {
            "text/plain": [
              "interactive(children=(FloatSlider(value=2.0, description='nc', max=4.0, min=1.0), FloatSlider(value=1.0, descr…"
            ],
            "application/vnd.jupyter.widget-view+json": {
              "version_major": 2,
              "version_minor": 0,
              "model_id": "f062bf6575864ee3b8d92c95f72d8a5c"
            }
          },
          "metadata": {}
        }
      ],
      "source": [
        "interactive(slab, nc=(1,4,0.1), ncladtop=(1,2,0.1), ncladbot=(1,2,0.1), wavel=(0.6,2,0.2), d=(0,2,0.1))"
      ]
    },
    {
      "cell_type": "code",
      "source": [],
      "metadata": {
        "id": "lpcto8eY-q_A"
      },
      "execution_count": null,
      "outputs": []
    },
    {
      "cell_type": "markdown",
      "source": [
        "Examples: \n",
        "* Spectrally separable photon-pair generation in dispersion engineered thin-film lithium niobate \n",
        " [link text](https://opg.optica.org/view_article.cfm?gotourl=%2FDirectPDFAccess%2F107CE2E4%2D774F%2D4BE4%2D823C40AE3AD25D23%5F473228%2Fol%2D47%2D11%2D2830%2Epdf%3Fda%3D1%26id%3D473228%26seq%3D0%26mobile%3Dno&org=Massachusetts%20Institute%20of%20Technology%20Libraries)\n",
        "\n"
      ],
      "metadata": {
        "id": "YA01c9I3Ahsn"
      }
    },
    {
      "cell_type": "markdown",
      "metadata": {
        "id": "51Wncy5OLLK6"
      },
      "source": [
        "### Problem 2: Designing a single mode waveguide\n",
        "\n",
        "Using the code above, design your waveguide for single mode operation by:\n",
        "1. Choosing a material platform: (real) refractive index of waveguide core and claddings (e.g. use https://refractiveindex.info/)\n",
        "2. Plot the effective indexes of all your calculated modes vs. slab height. Make sure you have a sufficiently large slab height range (from near-zero to microns should suffice). Use this plot to choose a slab height for which your waveguide is single mode (i.e. only a TE and a TM modes)\n",
        "3. Using your single mode slab height, investigate the effective indexes of your modes vs. wavelength. What is the shortest wavelength at which your waveguide can operate before running into multi-mode operation?"
      ]
    },
    {
      "cell_type": "markdown",
      "metadata": {
        "id": "H07vn59DLLK7"
      },
      "source": [
        "### 1.3. Fabrication variation in waveguides\n",
        "In rectangular dielectric waveguides, the modes are not pure TE and TM modes, since there is an electric and magnetic field component along the propagation direction. \n",
        "They are then called Quasi-TE and Quasi-TM, but, for simplicity, in these notes we will call them TE and TM.\n",
        "\n",
        "The phase of a wave traveling through a waveguide depends on a number of factors.\n",
        "The phase $\\phi$ of an electromagnetic wave exiting a waveguide with length $L$ and effective refractive index $\\text{n}_\\text{eff}$, is $\\phi=2\\pi L\\text{n}_\\text{eff}/\\lambda_0$.\n",
        "Consequently, by changing $\\lambda_0$, $L$, or $n_\\text{eff}$, the wave experiences a phase shift with respect to the unchanged case.\n",
        "\n",
        "Changing $n_\\text{eff}$ is an important case, and can be achieved by changing the refractive index of any of the materials forming the waveguide (e.g. top, bottom cladding, or core), for example by changing the temperature of operation via the thermo-optic coefficient ($\\frac{\\partial n}{dT}$) or exchanging air cladding for a liquid.\n",
        "The effective index of the mode then varies by $\\Delta n_\\text{eff}$, which leads to a change in phase velocity along the affected length of the waveguide, which means a change in phase $\\Delta\\phi$ for the wave, such that\n",
        "$$\n",
        "\\Delta \\phi = 2\\pi\\frac{L}{\\lambda_0} \\Delta n_\\text{eff}.\n",
        "\\label{eq:phaseshift}\n",
        "$$\n",
        "\n",
        "This effect is key for reconfigurable photonics and optical sensing.\n",
        "For example, by changing the effective index of a waveguide mode, the phase of the wave can be tuned, which can in turn tune effects such as interference.\n",
        "Or the other way around: one can detect changes in refractive index by measuring phase shifts of a wave, for example by using interferometric approaches, and back-calculate the refractive index of the material that caused the phase shift."
      ]
    },
    {
      "cell_type": "markdown",
      "metadata": {
        "id": "9SfbUVhbLLK7"
      },
      "source": [
        "### Problem 3: Fabrication variation in an on-chip interferometer\n",
        "\n",
        "Calculate the effect of a fabrication error up to $\\Delta d=\\pm 20$ nm in your slab thickness $d$ over a length of $L=10 \\mu$m. \n",
        "1. Plot the resulting phase shift versus waveguide thickness. \n",
        "2. Calculate and plot the wavelength spectrum of a waveguide interferometer (i.e. collinear waves with a phase shift $\\Delta\\phi$) assuming a $\\Delta L=10~\\mu$m and a non-perturbed waveguide (let's say $n_\\text{eff0}$). Then, plot a few spectra when your slab is affected by the fabrication error. If you designed your interferometer to filter out a wavelength $\\lambda_0$, calculate the wavelength shift that you observe when fabrication errors kick in."
      ]
    },
    {
      "cell_type": "markdown",
      "metadata": {
        "id": "l6b_hpi4LLK8"
      },
      "source": [
        "## 2. Photonic waveguide devices\n",
        "Waveguide devices feature geometries in which the waveguide cross-section varies along the propagation direction. \n",
        "Derivation of the properties of such devices can be done semi-analytically (mode expansion, coupled mode theory, supermode theory), or numerically.  \n",
        "\n",
        "General figures characterizing optical devices are power ratios.\n",
        "Insertion loss (IL) is a common power ratio for all optical devices, and represents the device losses as the ratio between the transmitted power and the input power.\n",
        "The extinction ratio (ER) of a device is simply the ratio between two optical powers, usually related to on and off states in a switch. \n",
        "In optical devices, one example is the ratio between on-resonance and off-resonance transmission signals in a resonator.\n",
        "A related concept is polarization extinction ratio (PER), which, in a polarization selective device such as a polarizing beam splitter (PBS), relates the transmitted power into the desired port to the leaked power into the undesired port for a specific polarization."
      ]
    },
    {
      "cell_type": "markdown",
      "metadata": {
        "id": "pc97Jt3HLLK8"
      },
      "source": [
        "### 2.1. Directional couplers\n",
        "Directional couplers are devices formed by waveguides in close proximity, so that the waveguide modes of the individual waveguides are no longer independent, and couple, resulting in power transfer.\n",
        "\t\n",
        "A good and intuitive approximation to directional couplers comes from supermode theory.\n",
        "A simplified directional coupler is formed by two identical single-mode waveguides in parallel to each other.\n",
        "If we look at the device as being a single waveguide, and calculate or simulate its eigenmodes, we obtain a symmetric and an antisymmetric mode, with different effective refractive indexes $n_\\text{eff,sym}$ and $n_\\text{eff,asym}$ and thus propagation constants $\\beta_\\text{sym}$ and $\\beta_\\text{asym}$.\n",
        "For single-mode waveguides, the coupler modes (so-called supermodes), combined with the radiative modes, form a complete set, and thus all modes in such a waveguide system can be represented as a linear combination of them. \t\n",
        "\n",
        "![coupler](T-coupler.png)\n",
        "\n",
        "Excitation of one waveguide of the coupler results in out-of-phase excitation of both supermodes, and their interference along the directional coupler leads to power transfer between the two waveguides.\n",
        "For full power transfer at a certain propagation distance $L$, the modes interact destructively, and thus\n",
        "$$\n",
        "(\\beta_\\text{sym}-\\beta_\\text{asym})L=m\\pi,\\quad \\text{with} \\quad m=1,3,5...\n",
        "$$\n",
        "which, solving for $L$ and the first order interference $m=1$, leads to\n",
        "$$\n",
        "L=\\frac{\\lambda_0}{2(n_\\text{eff,sym}-n_\\text{eff,asym})}\n",
        "$$\n",
        "\t\n",
        "Note that a change in a geometrical parameter, such as the gap between the two waveguides, results in a change in the effective indexes of the supermodes, causing a change in the optical power coupled into each of the output waveguides.\n",
        "\t\n",
        "From a circuit perspective, the incoming and outgoing electric fields for a directional coupler can be defined by the matrix\n",
        "$$\n",
        "\\begin{pmatrix}\n",
        "\tE_4\\\\ E_2\n",
        "\\end{pmatrix}\n",
        "\t=\n",
        "\\begin{pmatrix}\n",
        "\tr& i\\xi\\\\i\\xi&r\n",
        "\\end{pmatrix} \n",
        "\\begin{pmatrix}\n",
        "\tE_3\\\\ E_1\n",
        "\\end{pmatrix},\n",
        "$$\n",
        "with E$_{1-4}$ the electric field amplitudes of the input and output modes as defined in the figure, and $r,\\xi\\in\\mathbb{R}$ the self- and cross-coupling coefficients, with $r^2+\\xi^2=1$ for a loss-less ideal coupler.\n",
        "The imaginary unit $i$ relates to a $\\pi/2$ phase shift between the output amplitudes, and stems from energy conservation and symmetry.\n",
        "\n",
        "For directional couplers with non-identical waveguides, the waveguides may not be phase matched (different effective refractive index for the de-coupled waveguides), and thus power transfer will not be complete, and its efficiency will depend on the difference between their effective mode indexes. \n",
        "\t\n",
        "These simplifications do not take into account that directional couplers are not composed only of straight waveguides, but also of waveguide bends, which bring the modes into coupling before the straight section starts, resulting in an effectively increased coupler length. \n",
        "In most cases, a numerical simulation is required to optimally design such devices."
      ]
    },
    {
      "cell_type": "markdown",
      "metadata": {
        "id": "8OPL1oXTLLK8"
      },
      "source": [
        "### Problem 4: Designing a directional coupler\n",
        "1. Choose your integrated photonic platform and single-mode waveguide geometry and calculate the length of a directional coupler that makes a 50/50 beam splitter using supermode theory and the 2D waveguide mode simulator in https://www.computational-photonics.eu/eims.html. Remember that we are simulating the cross-section of the waveguide system.\n",
        "2. Select 5 gap widths and plot your results showing the coupling length required for 50:50 beam splitter operation. Confirm your result clicking the Lc tab in the simulator. You may want to check the definition of Lc in the software.\n",
        "3. Discuss the trade-offs between lithography resolution (i.e. minimum gap) and beam splitter length for your photonic platform."
      ]
    },
    {
      "cell_type": "markdown",
      "source": [
        "#QUIZ\n",
        "What is a directional coupler?\n",
        "\n",
        "A) A device used to transfer power between two waveguides\n",
        "B) A device used to split power between two waveguides\n",
        "C) A device used to combine power from two waveguides\n",
        "D) A device used to modulate power in a single waveguide\n",
        "\n",
        "What is the distance required for full power transfer in a directional coupler, as determined by supermode theory?\n",
        "\n",
        "A) $\\frac{\\lambda_0}{2(n_\\text{eff,sym}+n_\\text{eff,asym})}$\n",
        "B) $\\frac{\\lambda_0}{2(n_\\text{eff,sym}-n_\\text{eff,asym})}$\n",
        "C) $\\frac{\\lambda_0}{(n_\\text{eff,sym}+n_\\text{eff,asym})}$\n",
        "D) $\\frac{\\lambda_0}{(n_\\text{eff,sym}-n_\\text{eff,asym})}$\n",
        "\n",
        "What is the matrix representation of the incoming and outgoing electric fields for a directional coupler?\n",
        "\n",
        "A) $\\begin{pmatrix} E_1\\ E_2 \\end{pmatrix} = \\begin{pmatrix} r& i\\xi\\i\\xi&r \\end{pmatrix} \\begin{pmatrix} E_3\\ E_4 \\end{pmatrix}$\n",
        "B) $\\begin{pmatrix"
      ],
      "metadata": {
        "id": "NV5Ssw5X81KD"
      }
    },
    {
      "cell_type": "markdown",
      "source": [
        "What is a directional coupler formed by?\n",
        "A) Waveguides in close proximity\n",
        "B) A single waveguide\n",
        "C) Two identical waveguides\n",
        "D) Waveguide bends\n",
        "\n",
        "What is the name for the modes in a single-mode waveguide system that can be represented as a linear combination of coupler modes and radiative modes?\n",
        "A) Radiative modes\n",
        "B) Coupler modes\n",
        "C) Eigenmodes\n",
        "D) Supermodes\n",
        "\n",
        "What results in out-of-phase excitation of both supermodes in a directional coupler?\n",
        "A) Power transfer between the two waveguides\n",
        "B) Energy conservation\n",
        "C) Excitation of one waveguide\n",
        "D) Symmetry\n",
        "\n",
        "What does the matrix\n",
        "$$\n",
        "\\begin{pmatrix}\n",
        "E_4\\ E_2\n",
        "\\end{pmatrix}\n",
        "\\begin{pmatrix}\n",
        "r& i\\xi\\i\\xi&r\n",
        "\\end{pmatrix}\n",
        "\\begin{pmatrix}\n",
        "E_3\\ E_1\n",
        "\\end{pmatrix}\n",
        "$$\n",
        "represent for a directional coupler?\n",
        "A) The incoming and outgoing electric fields\n",
        "B) The self- and cross-coupling coefficients\n",
        "C) The effective refractive indexes\n",
        "D) The propagation constants\n",
        "\n",
        "What happens when the waveguides in a directional coupler are not phase matched?\n",
        "A) Power transfer will be complete\n",
        "B) Power transfer will"
      ],
      "metadata": {
        "id": "JSjwnSqL90Ix"
      }
    },
    {
      "cell_type": "markdown",
      "metadata": {
        "id": "GpcXvjr_LLK8"
      },
      "source": [
        "### 2.2. Diffraction gratings\n",
        "Diffraction gratings are optical components widely used in integrated photonics, as they enable light coupling in and out of the chip, and filtering.\n",
        "They are formed by a periodic structure, such as slits on a plane, dents in a mirror, or ridges in a waveguide.\n",
        "Each of these structures scatters light, which interferes along its propagation, leading to light beams traveling in different directions.\n",
        "The key properties of diffraction gratings can be easily understood by looking into wave interference, and we will follow this method here, as it gives a good approximation to their function.\n",
        "\n",
        "![gratings](T-grat.png)\n",
        "\n",
        "To achieve constructive interference between two waves, their phase difference should be a multiple of $2\\pi$, and so the difference of the optical paths should be a multiple of the wavelength. \n",
        "If we assume an in-plane waveguide propagating light into a waveguide grating, for two grating teeth (assumed as point scatterers), the difference of the optical path is the difference between the distance traveled by the first scattered wave in air (blue line in figure) and the distance traveled by the rest of the wave along the waveguide until the next scatterer (orange line in figure).\n",
        "\n",
        "This leads to the following grating equation,\n",
        "$$\n",
        "\\Lambda \\text{n}_\\text{eff}-\\Lambda \\text{n}_\\text{clad}\\sin\\theta=m\\lambda,\\quad \\text{with} \\quad \n",
        "\\text{n}_\\text{eff}\\approx \\frac{\\text{n}_\\text{wg}w_t+\\text{n}_\\text{slab}g}{w_t+g},\n",
        "$$\n",
        "with $\\Lambda$ the distance between grating teeth (grating pitch), $n_{air}$ the refractive index of the waveguide cladding, $n_{slab}$ the effective index of the slab (waveguide profile in $g$), $\\theta$ the outcoupling angle, $n_{eff}$ the effective refractive index of the waveguide grating, which can be simulated or estimated by the above equation, $m$ the diffraction order, $\\lambda$ the wavelength of the light, $n_{core}$ the refractive index of the waveguide core material, $w_t$ the tooth width, and $g$ the width of the gaps between teeth, with $\\Lambda=d+g$.\n",
        "\n",
        "In reality, such grating devices are fabricated on a chip, and a substrate sits at a certain distance below the grating, separated by a low refractive index buffer layer to satisfy the waveguiding conditions.\n",
        "Part of the light is scattered below the grating, and some of it reflects up into the grating again, causing additional interference.\n",
        "This effect is commonly used to improve efficiency of grating couplers by selecting the distance between grating and substrate (or a mirror deposited above the substrate) so that constructive interference is obtained.\n",
        "\t\n",
        "It is important to note that this method approximates the scatterers as single-point sources (Rayleigh scattering), which scatter light spherically, and that it assumes that the wavelength of light in the material $\\lambda$ is shorter than the grating pitch $\\Lambda$.\n",
        "In waveguides, we usually work in the limit situation in which the wavelength is on the same scale as the pitch, so this calculation is an approximation, and requires confirmation and fine-tuning by numerical approaches."
      ]
    },
    {
      "cell_type": "markdown",
      "metadata": {
        "id": "Z55yBlJgLLK8"
      },
      "source": [
        "With your waveguide geometry, make a function that outputs the coupling angle for all diffraction modes of a fully-etched grating coupler with 50% duty cycle given your mode index and the period."
      ]
    },
    {
      "cell_type": "code",
      "execution_count": null,
      "metadata": {
        "id": "iFOkNTHILLK8"
      },
      "outputs": [],
      "source": [
        "def grating(nwg, nclad, nslab, wavel, plot=False):\n",
        "    wavel=wavel*1e-6\n",
        "    neff=(nwg+nslab)/2 # assuming 50% duty cycle\n",
        "    period=np.linspace(0.1e-6,3e-6,num=100)\n",
        "    if plot==True:\n",
        "        for m in list(range(5)):\n",
        "            omega=np.arcsin(-(m*wavel-period*neff)/period/nclad)\n",
        "            plt.plot(period*1e6, omega*180/np.pi)\n",
        "        plt.xlabel('Period (µm)')\n",
        "        plt.ylabel('Angle (deg)')\n",
        "\n",
        "grating(2,1,1,1.55)"
      ]
    },
    {
      "cell_type": "code",
      "execution_count": null,
      "metadata": {
        "colab": {
          "referenced_widgets": [
            "798d96a118664c0599a7271d1109f5b0"
          ]
        },
        "id": "jnwzxdI8LLK8",
        "outputId": "bf00d05f-31b2-4a9d-b676-bb7b77c34476"
      },
      "outputs": [
        {
          "data": {
            "application/vnd.jupyter.widget-view+json": {
              "model_id": "798d96a118664c0599a7271d1109f5b0",
              "version_major": 2,
              "version_minor": 0
            },
            "text/plain": [
              "interactive(children=(FloatSlider(value=2.0, description='nwg', max=4.0, min=1.0), FloatSlider(value=1.0, desc…"
            ]
          },
          "metadata": {},
          "output_type": "display_data"
        }
      ],
      "source": [
        "interactive(grating, nwg=(1,4,0.1), nclad=(1,2,0.1), nslab=(1,2,0.1), wavel=(0.6,2,0.2))"
      ]
    },
    {
      "cell_type": "markdown",
      "source": [
        "# Phase shifting"
      ],
      "metadata": {
        "id": "7AQlQzzta4EX"
      }
    },
    {
      "cell_type": "code",
      "source": [
        "data = {\n",
        "    \"Physical quantity\": [\n",
        "        \"Piezo ring (single material poling)\",\n",
        "        \"Piezo ring (single material poling)\",\n",
        "        \"Piezo disc + cantilever\"\n",
        "    ],\n",
        "    \"Part number\": [\n",
        "        \"SMR2809T13BT From STEMInc\",\n",
        "        \"SMR15D65T5118 From STEMInc\",\n",
        "        \"APC international part number R-38.00-13.00-6.35mm-844\"\n",
        "    ],\n",
        "    \"Geometric properties\": [\n",
        "        \"Dimensions: OD 27.94 x ID 8.915 x Th 13.4mm\",\n",
        "        \"Dimensions: OD 15.00 x ID 6.50 x Th 5.00 mm\",\n",
        "        \"Dimensions: OD 27.94 x ID 8.915 x Th 13.4mm\"\n",
        "    ],\n",
        "    \"Material properties\": [\n",
        "        \"Lead Free Barium Ceramic Ring with Silver electrodes on both sides. d33=160pm/V\",\n",
        "        \"Piezo material SM118 with silver electrodes on both the sides d33=250pm/V\",\n",
        "        \"d33=300pm/V\"\n",
        "    ],\n",
        "    \"Resonant frequency mode\": [\n",
        "        \"Thickness mode\",\n",
        "        \"Thickness mode\",\n",
        "        \"Thickness mode + level arm action\"\n",
        "    ],\n",
        "    \"Resonant frequency\": [200000, 410000, 340000],\n",
        "    \"Maximum amplitude (analytical estimate)\": [\n",
        "        \"30 V*0.16 nm/V * Quality factor ~ 30 V * 0.16 nm/V * 100 ~ 480 nm ~ 0.64 𝜆\",\n",
        "        \"30 V*0.25 nm/V * Quality factor ~ 30 V * 0.25 nm/V * 200 ~ 1500 nm ~ 2.00 𝜆\",\n",
        "        \"90 V*0.30 nm/V * Quality factor ~ 90 V * 0.30 nm/V * 200 ~ 5400 nm ~ 7.20 𝜆\"\n",
        "    ],\n",
        "    \"Maximum amplitude (experimentally measured)\": [\"\", \"\", \"30 𝜇m (Note that this work used a voltage of 90 V applied on the transducer, and results from a lever arm action)\"],\n",
        "    \"Phase velocity\": [\n",
        "        \"200kHz*2pi*0.48 𝜇m ~ 0.6 m/s\",\n",
        "        \"410kHz*2pi*1.50𝜇m ~ 3.85 m/s\",\n",
        "        \"340 kHz*2pi*30 𝜇m ~ 64.06 m/s\"\n",
        "    ],\n",
        "    \"Phase velocity/2pi\": [\"~ 0.09 m/s\", \"0.6 m/s\", \"\"],\n",
        "    \"Area of the device\": [550, 143, 1000],\n",
        "    \"Volume of the device\": [7400, 717, 6350],\n",
        "    \"Number of optical modes that can be switched on\": [\"~ 0.1*550 mm^2 /(10 mm * 0.750e-3 mm) ~ 7332\", \"~ 0.1*143 mm^2 /(10 mm * 0.750e-3 mm) ~ 1906\", \"~ 0.1*1000 mm^2 /(10 mm * 0.750e-3 mm) ~ 13332\"],\n",
        "    \"Power consumed (total)\": [6, \"\", 500\n",
        "                               \n",
        "\n",
        "                               data = {\n",
        "    \"Physical quantity\": [\n",
        "        \"Piezo ring (single material poling)\",\n",
        "        \"Piezo ring (single material poling)\",\n",
        "        \"Piezo disc + cantilever\"\n",
        "    ],\n",
        "    \"Part number\": [\n",
        "        \"SMR2809T13BT From STEMInc\",\n",
        "        \"SMR15D65T5118 From STEMInc\",\n",
        "        \"APC international part number R-38.00-13.00-6.35mm-844\"\n",
        "    ],\n",
        "    \"Geometric properties\": [\n",
        "        \"Dimensions: OD 27.94 x ID 8.915 x Th 13.4mm\",\n",
        "        \"Dimensions: OD 15.00 x ID 6.50 x Th 5.00 mm\",\n",
        "        \"Dimensions: OD 27.94 x ID 8.915 x Th 13.4mm\"\n",
        "    ],\n",
        "    \"Material properties\": [\n",
        "        \"Lead Free Barium Ceramic Ring with Silver electrodes on both sides. d33=160pm/V\",\n",
        "        \"Piezo material SM118 with silver electrodes on both the sides d33=250pm/V\",\n",
        "        \"d33=300pm/V\"\n",
        "    ],\n",
        "    \"Resonant frequency mode\": [\n",
        "        \"Thickness mode\",\n",
        "        \"Thickness mode\",\n",
        "        \"Thickness mode + level arm action\"\n",
        "    ],\n",
        "    \"Resonant frequency\": [200000, 410000, 340000],\n",
        "    \"Maximum amplitude (analytical estimate)\": [\n",
        "        \"30 V*0.16 nm/V * Quality factor ~ 30 V * 0.16 nm/V * 100 ~ 480 nm ~ 0.64 𝜆\",\n",
        "        \"30 V*0.25 nm/V * Quality factor ~ 30 V * 0.25 nm/V * 200 ~ 1500 nm ~ 2.00 𝜆\",\n",
        "        \"90 V*0.30 nm/V * Quality factor ~ 90 V * 0.30 nm/V * 200 ~ 5400 nm ~ 7.20 𝜆\"\n",
        "    ],\n",
        "    \"Maximum amplitude (experimentally measured)\": [\"\", \"\", \"30 𝜇m (Note that this work used a voltage of 90 V applied on the transducer, and results from a lever arm action)\"],\n",
        "    \"Phase velocity\": [\n",
        "        \"200kHz*2pi*0.48 𝜇m ~ 0.6 m/s\",\n",
        "        \"410kHz*2pi*1.50𝜇m ~ 3.85 m/s\",\n",
        "        \"340 kHz*2pi*30 𝜇m ~ 64.06 m/s\"\n",
        "    ],\n",
        "    \"Phase velocity/2pi\": [\"~ 0.09 m/s\", \"0.6 m/s\", \"\"],\n",
        "    \"Area of the device\": [550, 143, 1000],\n",
        "    \"Volume of the device\": [7400, 717, 6350],\n",
        "    \"Number of optical modes that can be switched on\": [\"~ 0.1*550 mm^2 /(10 mm * 0.750e-3 mm) ~ 7332\", \"~ 0.1*143 mm^2 /(10 mm * 0.750e-3 mm) ~ 1906\", \"~ 0.1*1000 mm^2 /(10 mm * 0.750e-3 mm) ~ 13332\"],\n",
        "    \"Power consumed (total)\": [6, \"\", 500\n"
      ],
      "metadata": {
        "colab": {
          "base_uri": "https://localhost:8080/",
          "height": 133
        },
        "id": "hMAFMD4na3Ti",
        "outputId": "d93e9c4a-97b5-4938-bf0f-73c9e60d4d5c"
      },
      "execution_count": null,
      "outputs": [
        {
          "output_type": "error",
          "ename": "SyntaxError",
          "evalue": "ignored",
          "traceback": [
            "\u001b[0;36m  File \u001b[0;32m\"<ipython-input-3-005ccedee67c>\"\u001b[0;36m, line \u001b[0;32m46\u001b[0m\n\u001b[0;31m    data = {\u001b[0m\n\u001b[0m    ^\u001b[0m\n\u001b[0;31mSyntaxError\u001b[0m\u001b[0;31m:\u001b[0m invalid syntax\n"
          ]
        }
      ]
    },
    {
      "cell_type": "markdown",
      "metadata": {
        "id": "snlnag8xLLK9"
      },
      "source": [
        "## References\n",
        "[1] Saleh, B. E. A., and Teich, M. C., \"Fundamentals of photonics\", New York: Wiley (1991)\n",
        "\n",
        "[2] Van Thourhout, D., Baets, R., Ottevaere, H., \"Microphotonics\", Universiteit Gent and Vrije Universiteit Brussel (2013)\n",
        "\n",
        "[3] Errando-Herranz, C., \"Photonic MEMS for optical information technologies\", PhD Thesis, KTH Royal Institute of Technology (2018) urn:nbn:se:kth:diva-235069\n"
      ]
    }
  ],
  "metadata": {
    "kernelspec": {
      "display_name": "Python 3",
      "language": "python",
      "name": "python3"
    },
    "language_info": {
      "codemirror_mode": {
        "name": "ipython",
        "version": 3
      },
      "file_extension": ".py",
      "mimetype": "text/x-python",
      "name": "python",
      "nbconvert_exporter": "python",
      "pygments_lexer": "ipython3",
      "version": "3.7.4"
    },
    "colab": {
      "provenance": [],
      "include_colab_link": true
    },
    "widgets": {
      "application/vnd.jupyter.widget-state+json": {
        "f062bf6575864ee3b8d92c95f72d8a5c": {
          "model_module": "@jupyter-widgets/controls",
          "model_name": "VBoxModel",
          "model_module_version": "1.5.0",
          "state": {
            "_dom_classes": [
              "widget-interact"
            ],
            "_model_module": "@jupyter-widgets/controls",
            "_model_module_version": "1.5.0",
            "_model_name": "VBoxModel",
            "_view_count": null,
            "_view_module": "@jupyter-widgets/controls",
            "_view_module_version": "1.5.0",
            "_view_name": "VBoxView",
            "box_style": "",
            "children": [
              "IPY_MODEL_66c809ea124d4e89858dec8c8c4882bf",
              "IPY_MODEL_1fbfc98d44044a099ac981592642ad7c",
              "IPY_MODEL_95b0ee1198ba48a29f0e2af91665a943",
              "IPY_MODEL_69cb14ef9c5a4cf6923a06e19e2e843f",
              "IPY_MODEL_30c381dae0354980ab13487e8db8c13c",
              "IPY_MODEL_3a18d773f88041eeb6123ea023747bdb",
              "IPY_MODEL_c16939235f8f476e847cf632743974cf",
              "IPY_MODEL_be570ce731964a299a9ba38b96c50d77"
            ],
            "layout": "IPY_MODEL_e28db84b242a424ca5f13ebb1e5e87f6"
          }
        },
        "66c809ea124d4e89858dec8c8c4882bf": {
          "model_module": "@jupyter-widgets/controls",
          "model_name": "FloatSliderModel",
          "model_module_version": "1.5.0",
          "state": {
            "_dom_classes": [],
            "_model_module": "@jupyter-widgets/controls",
            "_model_module_version": "1.5.0",
            "_model_name": "FloatSliderModel",
            "_view_count": null,
            "_view_module": "@jupyter-widgets/controls",
            "_view_module_version": "1.5.0",
            "_view_name": "FloatSliderView",
            "continuous_update": true,
            "description": "nc",
            "description_tooltip": null,
            "disabled": false,
            "layout": "IPY_MODEL_c33d2320e83e4f919dad1fa8bb712375",
            "max": 4,
            "min": 1,
            "orientation": "horizontal",
            "readout": true,
            "readout_format": ".2f",
            "step": 0.1,
            "style": "IPY_MODEL_986eaf0994aa4ee8a571cb40900399d2",
            "value": 2
          }
        },
        "1fbfc98d44044a099ac981592642ad7c": {
          "model_module": "@jupyter-widgets/controls",
          "model_name": "FloatSliderModel",
          "model_module_version": "1.5.0",
          "state": {
            "_dom_classes": [],
            "_model_module": "@jupyter-widgets/controls",
            "_model_module_version": "1.5.0",
            "_model_name": "FloatSliderModel",
            "_view_count": null,
            "_view_module": "@jupyter-widgets/controls",
            "_view_module_version": "1.5.0",
            "_view_name": "FloatSliderView",
            "continuous_update": true,
            "description": "ncladtop",
            "description_tooltip": null,
            "disabled": false,
            "layout": "IPY_MODEL_1b484776fb8b4c3baca36d32054689f3",
            "max": 2,
            "min": 1,
            "orientation": "horizontal",
            "readout": true,
            "readout_format": ".2f",
            "step": 0.1,
            "style": "IPY_MODEL_54194aaeb39d4e339a6b06f6e97bf561",
            "value": 1
          }
        },
        "95b0ee1198ba48a29f0e2af91665a943": {
          "model_module": "@jupyter-widgets/controls",
          "model_name": "FloatSliderModel",
          "model_module_version": "1.5.0",
          "state": {
            "_dom_classes": [],
            "_model_module": "@jupyter-widgets/controls",
            "_model_module_version": "1.5.0",
            "_model_name": "FloatSliderModel",
            "_view_count": null,
            "_view_module": "@jupyter-widgets/controls",
            "_view_module_version": "1.5.0",
            "_view_name": "FloatSliderView",
            "continuous_update": true,
            "description": "ncladbot",
            "description_tooltip": null,
            "disabled": false,
            "layout": "IPY_MODEL_990a2cd7d85c495097110520ff4104e7",
            "max": 2,
            "min": 1,
            "orientation": "horizontal",
            "readout": true,
            "readout_format": ".2f",
            "step": 0.1,
            "style": "IPY_MODEL_7a74dcac288a4d14bc3e54a07a811e30",
            "value": 1
          }
        },
        "69cb14ef9c5a4cf6923a06e19e2e843f": {
          "model_module": "@jupyter-widgets/controls",
          "model_name": "FloatSliderModel",
          "model_module_version": "1.5.0",
          "state": {
            "_dom_classes": [],
            "_model_module": "@jupyter-widgets/controls",
            "_model_module_version": "1.5.0",
            "_model_name": "FloatSliderModel",
            "_view_count": null,
            "_view_module": "@jupyter-widgets/controls",
            "_view_module_version": "1.5.0",
            "_view_name": "FloatSliderView",
            "continuous_update": true,
            "description": "wavel",
            "description_tooltip": null,
            "disabled": false,
            "layout": "IPY_MODEL_cfe19cbcec304d1f81ea14c55fe521ce",
            "max": 2,
            "min": 0.6,
            "orientation": "horizontal",
            "readout": true,
            "readout_format": ".2f",
            "step": 0.2,
            "style": "IPY_MODEL_737f72d02a144aa8b48e2799a36d8c8b",
            "value": 1.2000000000000002
          }
        },
        "30c381dae0354980ab13487e8db8c13c": {
          "model_module": "@jupyter-widgets/controls",
          "model_name": "FloatSliderModel",
          "model_module_version": "1.5.0",
          "state": {
            "_dom_classes": [],
            "_model_module": "@jupyter-widgets/controls",
            "_model_module_version": "1.5.0",
            "_model_name": "FloatSliderModel",
            "_view_count": null,
            "_view_module": "@jupyter-widgets/controls",
            "_view_module_version": "1.5.0",
            "_view_name": "FloatSliderView",
            "continuous_update": true,
            "description": "d",
            "description_tooltip": null,
            "disabled": false,
            "layout": "IPY_MODEL_6e9599e2ca274611bd52c1266b5ade80",
            "max": 2,
            "min": 0,
            "orientation": "horizontal",
            "readout": true,
            "readout_format": ".2f",
            "step": 0.1,
            "style": "IPY_MODEL_cba4412662a54d258d8aa3f2160e38ea",
            "value": 1
          }
        },
        "3a18d773f88041eeb6123ea023747bdb": {
          "model_module": "@jupyter-widgets/controls",
          "model_name": "TextModel",
          "model_module_version": "1.5.0",
          "state": {
            "_dom_classes": [],
            "_model_module": "@jupyter-widgets/controls",
            "_model_module_version": "1.5.0",
            "_model_name": "TextModel",
            "_view_count": null,
            "_view_module": "@jupyter-widgets/controls",
            "_view_module_version": "1.5.0",
            "_view_name": "TextView",
            "continuous_update": true,
            "description": "pol",
            "description_tooltip": null,
            "disabled": false,
            "layout": "IPY_MODEL_3fb98b396c8a4371b3eb12e06976645d",
            "placeholder": "​",
            "style": "IPY_MODEL_1bf5514a1bac4ff88555b647f8af6db3",
            "value": "TE"
          }
        },
        "c16939235f8f476e847cf632743974cf": {
          "model_module": "@jupyter-widgets/controls",
          "model_name": "CheckboxModel",
          "model_module_version": "1.5.0",
          "state": {
            "_dom_classes": [],
            "_model_module": "@jupyter-widgets/controls",
            "_model_module_version": "1.5.0",
            "_model_name": "CheckboxModel",
            "_view_count": null,
            "_view_module": "@jupyter-widgets/controls",
            "_view_module_version": "1.5.0",
            "_view_name": "CheckboxView",
            "description": "plot",
            "description_tooltip": null,
            "disabled": false,
            "indent": true,
            "layout": "IPY_MODEL_8d99bfecd7df4ebc96d40503aabc2536",
            "style": "IPY_MODEL_4372936948eb489b86fdd95a8898111f",
            "value": false
          }
        },
        "be570ce731964a299a9ba38b96c50d77": {
          "model_module": "@jupyter-widgets/output",
          "model_name": "OutputModel",
          "model_module_version": "1.0.0",
          "state": {
            "_dom_classes": [],
            "_model_module": "@jupyter-widgets/output",
            "_model_module_version": "1.0.0",
            "_model_name": "OutputModel",
            "_view_count": null,
            "_view_module": "@jupyter-widgets/output",
            "_view_module_version": "1.0.0",
            "_view_name": "OutputView",
            "layout": "IPY_MODEL_9166f3cbee27428fb424a2a3a3af3c9a",
            "msg_id": "",
            "outputs": [
              {
                "output_type": "stream",
                "name": "stdout",
                "text": [
                  "Number of modes = 3\n",
                  "Neffs = [1.3993994  1.74774775 1.93893894]\n"
                ]
              }
            ]
          }
        },
        "e28db84b242a424ca5f13ebb1e5e87f6": {
          "model_module": "@jupyter-widgets/base",
          "model_name": "LayoutModel",
          "model_module_version": "1.2.0",
          "state": {
            "_model_module": "@jupyter-widgets/base",
            "_model_module_version": "1.2.0",
            "_model_name": "LayoutModel",
            "_view_count": null,
            "_view_module": "@jupyter-widgets/base",
            "_view_module_version": "1.2.0",
            "_view_name": "LayoutView",
            "align_content": null,
            "align_items": null,
            "align_self": null,
            "border": null,
            "bottom": null,
            "display": null,
            "flex": null,
            "flex_flow": null,
            "grid_area": null,
            "grid_auto_columns": null,
            "grid_auto_flow": null,
            "grid_auto_rows": null,
            "grid_column": null,
            "grid_gap": null,
            "grid_row": null,
            "grid_template_areas": null,
            "grid_template_columns": null,
            "grid_template_rows": null,
            "height": null,
            "justify_content": null,
            "justify_items": null,
            "left": null,
            "margin": null,
            "max_height": null,
            "max_width": null,
            "min_height": null,
            "min_width": null,
            "object_fit": null,
            "object_position": null,
            "order": null,
            "overflow": null,
            "overflow_x": null,
            "overflow_y": null,
            "padding": null,
            "right": null,
            "top": null,
            "visibility": null,
            "width": null
          }
        },
        "c33d2320e83e4f919dad1fa8bb712375": {
          "model_module": "@jupyter-widgets/base",
          "model_name": "LayoutModel",
          "model_module_version": "1.2.0",
          "state": {
            "_model_module": "@jupyter-widgets/base",
            "_model_module_version": "1.2.0",
            "_model_name": "LayoutModel",
            "_view_count": null,
            "_view_module": "@jupyter-widgets/base",
            "_view_module_version": "1.2.0",
            "_view_name": "LayoutView",
            "align_content": null,
            "align_items": null,
            "align_self": null,
            "border": null,
            "bottom": null,
            "display": null,
            "flex": null,
            "flex_flow": null,
            "grid_area": null,
            "grid_auto_columns": null,
            "grid_auto_flow": null,
            "grid_auto_rows": null,
            "grid_column": null,
            "grid_gap": null,
            "grid_row": null,
            "grid_template_areas": null,
            "grid_template_columns": null,
            "grid_template_rows": null,
            "height": null,
            "justify_content": null,
            "justify_items": null,
            "left": null,
            "margin": null,
            "max_height": null,
            "max_width": null,
            "min_height": null,
            "min_width": null,
            "object_fit": null,
            "object_position": null,
            "order": null,
            "overflow": null,
            "overflow_x": null,
            "overflow_y": null,
            "padding": null,
            "right": null,
            "top": null,
            "visibility": null,
            "width": null
          }
        },
        "986eaf0994aa4ee8a571cb40900399d2": {
          "model_module": "@jupyter-widgets/controls",
          "model_name": "SliderStyleModel",
          "model_module_version": "1.5.0",
          "state": {
            "_model_module": "@jupyter-widgets/controls",
            "_model_module_version": "1.5.0",
            "_model_name": "SliderStyleModel",
            "_view_count": null,
            "_view_module": "@jupyter-widgets/base",
            "_view_module_version": "1.2.0",
            "_view_name": "StyleView",
            "description_width": "",
            "handle_color": null
          }
        },
        "1b484776fb8b4c3baca36d32054689f3": {
          "model_module": "@jupyter-widgets/base",
          "model_name": "LayoutModel",
          "model_module_version": "1.2.0",
          "state": {
            "_model_module": "@jupyter-widgets/base",
            "_model_module_version": "1.2.0",
            "_model_name": "LayoutModel",
            "_view_count": null,
            "_view_module": "@jupyter-widgets/base",
            "_view_module_version": "1.2.0",
            "_view_name": "LayoutView",
            "align_content": null,
            "align_items": null,
            "align_self": null,
            "border": null,
            "bottom": null,
            "display": null,
            "flex": null,
            "flex_flow": null,
            "grid_area": null,
            "grid_auto_columns": null,
            "grid_auto_flow": null,
            "grid_auto_rows": null,
            "grid_column": null,
            "grid_gap": null,
            "grid_row": null,
            "grid_template_areas": null,
            "grid_template_columns": null,
            "grid_template_rows": null,
            "height": null,
            "justify_content": null,
            "justify_items": null,
            "left": null,
            "margin": null,
            "max_height": null,
            "max_width": null,
            "min_height": null,
            "min_width": null,
            "object_fit": null,
            "object_position": null,
            "order": null,
            "overflow": null,
            "overflow_x": null,
            "overflow_y": null,
            "padding": null,
            "right": null,
            "top": null,
            "visibility": null,
            "width": null
          }
        },
        "54194aaeb39d4e339a6b06f6e97bf561": {
          "model_module": "@jupyter-widgets/controls",
          "model_name": "SliderStyleModel",
          "model_module_version": "1.5.0",
          "state": {
            "_model_module": "@jupyter-widgets/controls",
            "_model_module_version": "1.5.0",
            "_model_name": "SliderStyleModel",
            "_view_count": null,
            "_view_module": "@jupyter-widgets/base",
            "_view_module_version": "1.2.0",
            "_view_name": "StyleView",
            "description_width": "",
            "handle_color": null
          }
        },
        "990a2cd7d85c495097110520ff4104e7": {
          "model_module": "@jupyter-widgets/base",
          "model_name": "LayoutModel",
          "model_module_version": "1.2.0",
          "state": {
            "_model_module": "@jupyter-widgets/base",
            "_model_module_version": "1.2.0",
            "_model_name": "LayoutModel",
            "_view_count": null,
            "_view_module": "@jupyter-widgets/base",
            "_view_module_version": "1.2.0",
            "_view_name": "LayoutView",
            "align_content": null,
            "align_items": null,
            "align_self": null,
            "border": null,
            "bottom": null,
            "display": null,
            "flex": null,
            "flex_flow": null,
            "grid_area": null,
            "grid_auto_columns": null,
            "grid_auto_flow": null,
            "grid_auto_rows": null,
            "grid_column": null,
            "grid_gap": null,
            "grid_row": null,
            "grid_template_areas": null,
            "grid_template_columns": null,
            "grid_template_rows": null,
            "height": null,
            "justify_content": null,
            "justify_items": null,
            "left": null,
            "margin": null,
            "max_height": null,
            "max_width": null,
            "min_height": null,
            "min_width": null,
            "object_fit": null,
            "object_position": null,
            "order": null,
            "overflow": null,
            "overflow_x": null,
            "overflow_y": null,
            "padding": null,
            "right": null,
            "top": null,
            "visibility": null,
            "width": null
          }
        },
        "7a74dcac288a4d14bc3e54a07a811e30": {
          "model_module": "@jupyter-widgets/controls",
          "model_name": "SliderStyleModel",
          "model_module_version": "1.5.0",
          "state": {
            "_model_module": "@jupyter-widgets/controls",
            "_model_module_version": "1.5.0",
            "_model_name": "SliderStyleModel",
            "_view_count": null,
            "_view_module": "@jupyter-widgets/base",
            "_view_module_version": "1.2.0",
            "_view_name": "StyleView",
            "description_width": "",
            "handle_color": null
          }
        },
        "cfe19cbcec304d1f81ea14c55fe521ce": {
          "model_module": "@jupyter-widgets/base",
          "model_name": "LayoutModel",
          "model_module_version": "1.2.0",
          "state": {
            "_model_module": "@jupyter-widgets/base",
            "_model_module_version": "1.2.0",
            "_model_name": "LayoutModel",
            "_view_count": null,
            "_view_module": "@jupyter-widgets/base",
            "_view_module_version": "1.2.0",
            "_view_name": "LayoutView",
            "align_content": null,
            "align_items": null,
            "align_self": null,
            "border": null,
            "bottom": null,
            "display": null,
            "flex": null,
            "flex_flow": null,
            "grid_area": null,
            "grid_auto_columns": null,
            "grid_auto_flow": null,
            "grid_auto_rows": null,
            "grid_column": null,
            "grid_gap": null,
            "grid_row": null,
            "grid_template_areas": null,
            "grid_template_columns": null,
            "grid_template_rows": null,
            "height": null,
            "justify_content": null,
            "justify_items": null,
            "left": null,
            "margin": null,
            "max_height": null,
            "max_width": null,
            "min_height": null,
            "min_width": null,
            "object_fit": null,
            "object_position": null,
            "order": null,
            "overflow": null,
            "overflow_x": null,
            "overflow_y": null,
            "padding": null,
            "right": null,
            "top": null,
            "visibility": null,
            "width": null
          }
        },
        "737f72d02a144aa8b48e2799a36d8c8b": {
          "model_module": "@jupyter-widgets/controls",
          "model_name": "SliderStyleModel",
          "model_module_version": "1.5.0",
          "state": {
            "_model_module": "@jupyter-widgets/controls",
            "_model_module_version": "1.5.0",
            "_model_name": "SliderStyleModel",
            "_view_count": null,
            "_view_module": "@jupyter-widgets/base",
            "_view_module_version": "1.2.0",
            "_view_name": "StyleView",
            "description_width": "",
            "handle_color": null
          }
        },
        "6e9599e2ca274611bd52c1266b5ade80": {
          "model_module": "@jupyter-widgets/base",
          "model_name": "LayoutModel",
          "model_module_version": "1.2.0",
          "state": {
            "_model_module": "@jupyter-widgets/base",
            "_model_module_version": "1.2.0",
            "_model_name": "LayoutModel",
            "_view_count": null,
            "_view_module": "@jupyter-widgets/base",
            "_view_module_version": "1.2.0",
            "_view_name": "LayoutView",
            "align_content": null,
            "align_items": null,
            "align_self": null,
            "border": null,
            "bottom": null,
            "display": null,
            "flex": null,
            "flex_flow": null,
            "grid_area": null,
            "grid_auto_columns": null,
            "grid_auto_flow": null,
            "grid_auto_rows": null,
            "grid_column": null,
            "grid_gap": null,
            "grid_row": null,
            "grid_template_areas": null,
            "grid_template_columns": null,
            "grid_template_rows": null,
            "height": null,
            "justify_content": null,
            "justify_items": null,
            "left": null,
            "margin": null,
            "max_height": null,
            "max_width": null,
            "min_height": null,
            "min_width": null,
            "object_fit": null,
            "object_position": null,
            "order": null,
            "overflow": null,
            "overflow_x": null,
            "overflow_y": null,
            "padding": null,
            "right": null,
            "top": null,
            "visibility": null,
            "width": null
          }
        },
        "cba4412662a54d258d8aa3f2160e38ea": {
          "model_module": "@jupyter-widgets/controls",
          "model_name": "SliderStyleModel",
          "model_module_version": "1.5.0",
          "state": {
            "_model_module": "@jupyter-widgets/controls",
            "_model_module_version": "1.5.0",
            "_model_name": "SliderStyleModel",
            "_view_count": null,
            "_view_module": "@jupyter-widgets/base",
            "_view_module_version": "1.2.0",
            "_view_name": "StyleView",
            "description_width": "",
            "handle_color": null
          }
        },
        "3fb98b396c8a4371b3eb12e06976645d": {
          "model_module": "@jupyter-widgets/base",
          "model_name": "LayoutModel",
          "model_module_version": "1.2.0",
          "state": {
            "_model_module": "@jupyter-widgets/base",
            "_model_module_version": "1.2.0",
            "_model_name": "LayoutModel",
            "_view_count": null,
            "_view_module": "@jupyter-widgets/base",
            "_view_module_version": "1.2.0",
            "_view_name": "LayoutView",
            "align_content": null,
            "align_items": null,
            "align_self": null,
            "border": null,
            "bottom": null,
            "display": null,
            "flex": null,
            "flex_flow": null,
            "grid_area": null,
            "grid_auto_columns": null,
            "grid_auto_flow": null,
            "grid_auto_rows": null,
            "grid_column": null,
            "grid_gap": null,
            "grid_row": null,
            "grid_template_areas": null,
            "grid_template_columns": null,
            "grid_template_rows": null,
            "height": null,
            "justify_content": null,
            "justify_items": null,
            "left": null,
            "margin": null,
            "max_height": null,
            "max_width": null,
            "min_height": null,
            "min_width": null,
            "object_fit": null,
            "object_position": null,
            "order": null,
            "overflow": null,
            "overflow_x": null,
            "overflow_y": null,
            "padding": null,
            "right": null,
            "top": null,
            "visibility": null,
            "width": null
          }
        },
        "1bf5514a1bac4ff88555b647f8af6db3": {
          "model_module": "@jupyter-widgets/controls",
          "model_name": "DescriptionStyleModel",
          "model_module_version": "1.5.0",
          "state": {
            "_model_module": "@jupyter-widgets/controls",
            "_model_module_version": "1.5.0",
            "_model_name": "DescriptionStyleModel",
            "_view_count": null,
            "_view_module": "@jupyter-widgets/base",
            "_view_module_version": "1.2.0",
            "_view_name": "StyleView",
            "description_width": ""
          }
        },
        "8d99bfecd7df4ebc96d40503aabc2536": {
          "model_module": "@jupyter-widgets/base",
          "model_name": "LayoutModel",
          "model_module_version": "1.2.0",
          "state": {
            "_model_module": "@jupyter-widgets/base",
            "_model_module_version": "1.2.0",
            "_model_name": "LayoutModel",
            "_view_count": null,
            "_view_module": "@jupyter-widgets/base",
            "_view_module_version": "1.2.0",
            "_view_name": "LayoutView",
            "align_content": null,
            "align_items": null,
            "align_self": null,
            "border": null,
            "bottom": null,
            "display": null,
            "flex": null,
            "flex_flow": null,
            "grid_area": null,
            "grid_auto_columns": null,
            "grid_auto_flow": null,
            "grid_auto_rows": null,
            "grid_column": null,
            "grid_gap": null,
            "grid_row": null,
            "grid_template_areas": null,
            "grid_template_columns": null,
            "grid_template_rows": null,
            "height": null,
            "justify_content": null,
            "justify_items": null,
            "left": null,
            "margin": null,
            "max_height": null,
            "max_width": null,
            "min_height": null,
            "min_width": null,
            "object_fit": null,
            "object_position": null,
            "order": null,
            "overflow": null,
            "overflow_x": null,
            "overflow_y": null,
            "padding": null,
            "right": null,
            "top": null,
            "visibility": null,
            "width": null
          }
        },
        "4372936948eb489b86fdd95a8898111f": {
          "model_module": "@jupyter-widgets/controls",
          "model_name": "DescriptionStyleModel",
          "model_module_version": "1.5.0",
          "state": {
            "_model_module": "@jupyter-widgets/controls",
            "_model_module_version": "1.5.0",
            "_model_name": "DescriptionStyleModel",
            "_view_count": null,
            "_view_module": "@jupyter-widgets/base",
            "_view_module_version": "1.2.0",
            "_view_name": "StyleView",
            "description_width": ""
          }
        },
        "9166f3cbee27428fb424a2a3a3af3c9a": {
          "model_module": "@jupyter-widgets/base",
          "model_name": "LayoutModel",
          "model_module_version": "1.2.0",
          "state": {
            "_model_module": "@jupyter-widgets/base",
            "_model_module_version": "1.2.0",
            "_model_name": "LayoutModel",
            "_view_count": null,
            "_view_module": "@jupyter-widgets/base",
            "_view_module_version": "1.2.0",
            "_view_name": "LayoutView",
            "align_content": null,
            "align_items": null,
            "align_self": null,
            "border": null,
            "bottom": null,
            "display": null,
            "flex": null,
            "flex_flow": null,
            "grid_area": null,
            "grid_auto_columns": null,
            "grid_auto_flow": null,
            "grid_auto_rows": null,
            "grid_column": null,
            "grid_gap": null,
            "grid_row": null,
            "grid_template_areas": null,
            "grid_template_columns": null,
            "grid_template_rows": null,
            "height": null,
            "justify_content": null,
            "justify_items": null,
            "left": null,
            "margin": null,
            "max_height": null,
            "max_width": null,
            "min_height": null,
            "min_width": null,
            "object_fit": null,
            "object_position": null,
            "order": null,
            "overflow": null,
            "overflow_x": null,
            "overflow_y": null,
            "padding": null,
            "right": null,
            "top": null,
            "visibility": null,
            "width": null
          }
        }
      }
    }
  },
  "nbformat": 4,
  "nbformat_minor": 0
}